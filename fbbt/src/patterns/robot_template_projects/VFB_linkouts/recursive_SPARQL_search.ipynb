{
 "cells": [
  {
   "cell_type": "code",
   "execution_count": 19,
   "metadata": {},
   "outputs": [],
   "source": [
    "import pandas as pd\n",
    "#from collections import OrderedDict\n",
    "import subprocess\n",
    "import csv\n",
    "\n",
    "#working directory\n",
    "wd = \"/Users/clare/git/drosophila-anatomy-developmental-ontology/fbbt/src/patterns\\\n",
    "/robot_template_projects/VFB_linkouts/\"\n",
    "\n",
    "#file to search\n",
    "fbbt = \"/Users/clare/git/drosophila-anatomy-developmental-ontology/fbbt/src/ontology/fbbt-edit.obo\"\n",
    "\n",
    "#superclasses list\n",
    "superclasses = [\"FBbt:00005093\"]\n",
    "\n",
    "#SPARQL\n",
    "SPARQL_file = wd + \"part_of_search.sparql\"\n",
    "SPARQL = open(SPARQL_file, \"r\").read()\n",
    "\n",
    "#robot command\n",
    "ROBOT_file = wd + \"robot_command.txt\"\n",
    "ROBOT = open(ROBOT_file, \"r\").read()\n",
    "\n",
    "#subclasses\n",
    "subclasses_file = wd + \"term_list.csv\"\n"
   ]
  },
  {
   "cell_type": "code",
   "execution_count": 20,
   "metadata": {},
   "outputs": [],
   "source": [
    "results = []\n",
    "new_terms = []\n",
    "\n",
    "list.clear(results)\n",
    "list.clear(new_terms)\n"
   ]
  },
  {
   "cell_type": "code",
   "execution_count": 21,
   "metadata": {},
   "outputs": [
    {
     "name": "stdout",
     "output_type": "stream",
     "text": [
      "No columns to parse from file\n"
     ]
    },
    {
     "data": {
      "text/plain": [
       "3779"
      ]
     },
     "execution_count": 21,
     "metadata": {},
     "output_type": "execute_result"
    }
   ],
   "source": [
    "while len(superclasses) > 0:\n",
    "    filter_string = \"\"\n",
    "    #generate terms seperated by || to insert into filter in SPARQL\n",
    "    for sc in superclasses:\n",
    "        results.append(sc) #add search terms to results\n",
    "        if len(filter_string) > 0:\n",
    "            filter_string = filter_string + \" || ?y = \" + sc\n",
    "        else: filter_string = \"?y = \" + sc\n",
    "    # replace search term with next term list\n",
    "    query_text = SPARQL.replace(\"<search_term>\", filter_string)\n",
    "    with open(SPARQL_file, 'w') as file:\n",
    "        file.write(query_text) #add search terms to query file\n",
    "    \n",
    "    #perform search\n",
    "    subprocess.run(ROBOT, shell=True)\n",
    "        \n",
    "    try:\n",
    "        data = pd.read_csv(subclasses_file) #this is the output from the search\n",
    "    except Exception as e:#probably due to no results\n",
    "        print(e)\n",
    "        #remove search terms from query file\n",
    "        query_text = SPARQL.replace(filter_string, \"<search_term>\")\n",
    "        with open(SPARQL_file, 'w') as file:\n",
    "            file.write(query_text)\n",
    "        break #quit loop if no results returned - or any other error?\n",
    "        \n",
    "    for term in data.x:\n",
    "        if term not in results:\n",
    "            new_terms.append(\"FBbt:\" + term[-8:])#add new terms to temp list (convert to short form)\n",
    "        else: continue #don't add terms already in results\n",
    "      \n",
    "    #remove search terms from query file ready for next iteration\n",
    "    query_text = SPARQL.replace(filter_string, \"<search_term>\")\n",
    "    with open(SPARQL_file, 'w') as file:\n",
    "        file.write(query_text)\n",
    "    \n",
    "    #replace list of superclasses\n",
    "    list.clear(superclasses)\n",
    "    for nt in new_terms:\n",
    "        superclasses.append(nt)\n",
    "    list.clear(new_terms)#clear temp list\n",
    "\n",
    "len(set(results))#seems too low?"
   ]
  },
  {
   "cell_type": "code",
   "execution_count": 22,
   "metadata": {},
   "outputs": [],
   "source": [
    "#unique values only\n",
    "results = set(results)\n",
    "results = list(results)\n",
    "#results[0:10]"
   ]
  },
  {
   "cell_type": "code",
   "execution_count": 26,
   "metadata": {},
   "outputs": [],
   "source": [
    "with open(wd + \"results_list.csv\", \"w\", newline='') as writeFile:\n",
    "    csv.writer(writeFile).writerow(results)\n"
   ]
  },
  {
   "cell_type": "code",
   "execution_count": null,
   "metadata": {},
   "outputs": [],
   "source": []
  }
 ],
 "metadata": {
  "kernelspec": {
   "display_name": "Python 3",
   "language": "python",
   "name": "python3"
  },
  "language_info": {
   "codemirror_mode": {
    "name": "ipython",
    "version": 3
   },
   "file_extension": ".py",
   "mimetype": "text/x-python",
   "name": "python",
   "nbconvert_exporter": "python",
   "pygments_lexer": "ipython3",
   "version": "3.6.5"
  }
 },
 "nbformat": 4,
 "nbformat_minor": 2
}
