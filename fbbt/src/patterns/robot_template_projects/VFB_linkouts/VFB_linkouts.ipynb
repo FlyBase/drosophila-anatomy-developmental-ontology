{
 "cells": [
  {
   "cell_type": "code",
   "execution_count": 145,
   "metadata": {},
   "outputs": [],
   "source": [
    "#run release to put latest version fbbt.json in /oort\n",
    "\n",
    "import requests\n",
    "import json\n",
    "import pandas as pd\n",
    "from collections import OrderedDict\n"
   ]
  },
  {
   "cell_type": "code",
   "execution_count": 146,
   "metadata": {},
   "outputs": [],
   "source": [
    "#import fbbt from web\n",
    "#fbbt = requests.get(\"http://purl.obolibrary.org/obo/fbbt/2018-10-03/fbbt.json\").json()\n",
    "#fbbt['graphs'][0]['edges']\n",
    "\n",
    "#import fbbt from /oort\n",
    "fbbt = json.load(open(\"/Users/clare/git/drosophila-anatomy-developmental-ontology/oort/fbbt.json\", \"r\"))\n",
    "#fbbt['graphs'][0]['edges']\n"
   ]
  },
  {
   "cell_type": "code",
   "execution_count": 147,
   "metadata": {},
   "outputs": [],
   "source": [
    "#find all nervous systems and recursive parts of them\n",
    "\n",
    "terms = ['http://purl.obolibrary.org/obo/FBbt_00005093']\n",
    "result = ['http://purl.obolibrary.org/obo/FBbt_00005093']\n",
    "x = 1\n",
    "while x > 0:\n",
    "    x = 0\n",
    "    new_terms = list()\n",
    "    for e in fbbt['graphs'][0]['edges']:\n",
    "        if (e['obj'] in terms) and ((e['pred'] == 'http://purl.obolibrary.org/obo/BFO_0000050') \\\n",
    "                                     or (e['pred'] == 'is_a')):\n",
    "            new_terms.append(e['sub'])\n",
    "            x += 1\n",
    "    terms.clear()\n",
    "    for i in new_terms:\n",
    "        if i not in result:\n",
    "            result.append(i)\n",
    "            terms.append(i)\n",
    "    new_terms.clear()\n",
    "\n",
    "#result"
   ]
  },
  {
   "cell_type": "code",
   "execution_count": 148,
   "metadata": {},
   "outputs": [],
   "source": [
    "#len(result)"
   ]
  },
  {
   "cell_type": "code",
   "execution_count": 149,
   "metadata": {},
   "outputs": [],
   "source": [
    "#generate VFB refs\n",
    "VFB_dict = OrderedDict([])\n",
    "for i in result:\n",
    "    fb_id = i.split(\"/\")[-1]\n",
    "    VFB_dict[i] = \"VFB:\" + fb_id\n",
    "\n",
    "#VFB_dict\n"
   ]
  },
  {
   "cell_type": "code",
   "execution_count": 153,
   "metadata": {},
   "outputs": [],
   "source": [
    "# Make a dictionary with key - column header & value = template specification (first row of table).\n",
    "# Make first two columns\n",
    "\n",
    "template_seed = OrderedDict([ ('ID' , 'ID'), ('CLASS_TYPE' , 'CLASS_TYPE'),\\\n",
    "                             ('RDF_Type' , 'TYPE' ), (\"Xref\" , \"A oboInOwl:hasDbXref\")])\n",
    "\n",
    "# Create dataFrame for template\n",
    "# from_records takes a list of dicts - one for each row.  We only have one row.\n",
    "\n",
    "template = pd.DataFrame.from_records([template_seed])\n",
    "\n",
    "#template"
   ]
  },
  {
   "cell_type": "code",
   "execution_count": 154,
   "metadata": {},
   "outputs": [],
   "source": [
    "for i in VFB_dict:\n",
    "\n",
    "    row_od = OrderedDict([]) #new template row as an empty ordered dictionary\n",
    "    for c in template.columns: #make columns and blank data for new template row\n",
    "        row_od.update([(c , \"\")])\n",
    "    \n",
    "    #these are the same in each row\n",
    "    row_od[\"CLASS_TYPE\"] = \"subclass\"\n",
    "    row_od[\"RDF_Type\"] = \"owl:Class\"\n",
    "    \n",
    "    #ID and xref\n",
    "    row_od['ID'] = i\n",
    "    row_od[\"Xref\"] = VFB_dict[i]\n",
    "    \n",
    "    #make new row into a DataFrame and add it to template\n",
    "    new_row = pd.DataFrame.from_records([row_od])\n",
    "    template = pd.concat([template, new_row], ignore_index=True, sort=False)\n",
    "    \n",
    "#template"
   ]
  },
  {
   "cell_type": "code",
   "execution_count": 155,
   "metadata": {},
   "outputs": [],
   "source": [
    "template.to_csv(\"./template.tsv\", sep = \"\\t\", header=True, index=False)"
   ]
  },
  {
   "cell_type": "code",
   "execution_count": null,
   "metadata": {},
   "outputs": [],
   "source": []
  }
 ],
 "metadata": {
  "kernelspec": {
   "display_name": "Python 3",
   "language": "python",
   "name": "python3"
  },
  "language_info": {
   "codemirror_mode": {
    "name": "ipython",
    "version": 3
   },
   "file_extension": ".py",
   "mimetype": "text/x-python",
   "name": "python",
   "nbconvert_exporter": "python",
   "pygments_lexer": "ipython3",
   "version": "3.6.5"
  }
 },
 "nbformat": 4,
 "nbformat_minor": 2
}
