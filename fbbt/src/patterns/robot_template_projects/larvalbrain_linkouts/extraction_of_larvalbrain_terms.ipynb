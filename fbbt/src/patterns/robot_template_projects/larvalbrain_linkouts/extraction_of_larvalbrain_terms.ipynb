{
 "cells": [
  {
   "cell_type": "code",
   "execution_count": 75,
   "metadata": {},
   "outputs": [],
   "source": [
    "import requests\n",
    "import json\n",
    "import pandas as pd\n",
    "\n",
    "fascicles = \\\n",
    "requests.get(\"http://www.larvalbrain.org/api/nomenclatures/L3HartensteinThumFascicles2018a?terms=true\").json()\n",
    "out_f = \"lb_fascicles.tsv\"\n",
    "\n",
    "lineages = \\\n",
    "requests.get(\"http://www.larvalbrain.org/api/nomenclatures/L3HartensteinThumLineages2018a?terms=true\").json()\n",
    "out_l = \"lb_lineages.tsv\"\n",
    "\n",
    "compartments = \\\n",
    "requests.get(\"http://www.larvalbrain.org/api/nomenclatures/L3HartensteinThumCompartments2016?terms=true\").json()\n",
    "out_c = \"lb_compartments.tsv\"\n",
    "\n",
    "current_set = fascicles\n",
    "outfile = out_f"
   ]
  },
  {
   "cell_type": "code",
   "execution_count": 76,
   "metadata": {},
   "outputs": [],
   "source": [
    "#current_set['Terms']"
   ]
  },
  {
   "cell_type": "code",
   "execution_count": 77,
   "metadata": {},
   "outputs": [],
   "source": [
    "larvalbrain_Name = list()\n",
    "larvalbrain_Shortname = list()\n",
    "larvalbrain_hemisphere = list()\n",
    "larvalbrain_id = list()\n",
    "\n",
    "for t in current_set[\"Terms\"]:\n",
    "    try:\n",
    "        for o in t['Objects']:\n",
    "            try: larvalbrain_Name.append(t['Name'])\n",
    "            except KeyError: larvalbrain_Name.append('')\n",
    "            try: larvalbrain_Shortname.append(t['Shortname'])\n",
    "            except KeyError: larvalbrain_Shortname.append('')\n",
    "            try: larvalbrain_hemisphere.append(o['Hemisphere'])\n",
    "            except KeyError: larvalbrain_hemisphere.append('')\n",
    "            try: larvalbrain_id.append(o['Id'])\n",
    "            except KeyError: larvalbrain_id.append('')\n",
    "    except KeyError:\n",
    "        try: larvalbrain_Name.append(t['Name'])\n",
    "        except KeyError: larvalbrain_Name.append('')\n",
    "        try: larvalbrain_Shortname.append(t['Shortname'])\n",
    "        except KeyError: larvalbrain_Shortname.append('')\n",
    "        larvalbrain_id.append('')\n",
    "        larvalbrain_hemisphere.append('')\n",
    "\n",
    "#larvalbrain_hemisphere"
   ]
  },
  {
   "cell_type": "code",
   "execution_count": 78,
   "metadata": {},
   "outputs": [],
   "source": [
    "lbterms = pd.DataFrame(data = {'larvalbrain_Name' : larvalbrain_Name,\\\n",
    "                               'larvalbrain_Shortname' : larvalbrain_Shortname,\\\n",
    "                               'larvalbrain_hemisphere' : larvalbrain_hemisphere,\\\n",
    "                               'larvalbrain_id' : larvalbrain_id})\n",
    "#lbterms"
   ]
  },
  {
   "cell_type": "code",
   "execution_count": 79,
   "metadata": {},
   "outputs": [],
   "source": [
    "#replace short names in names column\n",
    "#dictionary of names where short != long\n",
    "name_dict = {}\n",
    "for i in lbterms.index:\n",
    "    if not lbterms.larvalbrain_Name[i] == lbterms.larvalbrain_Shortname[i]:\n",
    "        name_dict[lbterms.larvalbrain_Shortname[i]] = lbterms.larvalbrain_Name[i]\n",
    "\n",
    "#name_dict"
   ]
  },
  {
   "cell_type": "code",
   "execution_count": 80,
   "metadata": {},
   "outputs": [],
   "source": [
    "#replace Short names in names column of dataframe if \n",
    "for i in lbterms.index:\n",
    "    if lbterms.larvalbrain_Name[i] == lbterms.larvalbrain_Shortname[i]\\\n",
    "    and lbterms.larvalbrain_Shortname[i] in name_dict:\n",
    "        lbterms.larvalbrain_Name[i] = name_dict[lbterms.larvalbrain_Shortname[i]]\n",
    "#lbterms"
   ]
  },
  {
   "cell_type": "code",
   "execution_count": 81,
   "metadata": {},
   "outputs": [],
   "source": [
    "lbterms = lbterms.query('larvalbrain_id != \"\"')#filter terms with empty string id\n",
    "#lbterms"
   ]
  },
  {
   "cell_type": "code",
   "execution_count": 82,
   "metadata": {},
   "outputs": [],
   "source": [
    "lbterms.to_csv(outfile, sep = \"\\t\", header=True, index=False)\n"
   ]
  },
  {
   "cell_type": "code",
   "execution_count": null,
   "metadata": {},
   "outputs": [],
   "source": []
  }
 ],
 "metadata": {
  "kernelspec": {
   "display_name": "Python 3",
   "language": "python",
   "name": "python3"
  },
  "language_info": {
   "codemirror_mode": {
    "name": "ipython",
    "version": 3
   },
   "file_extension": ".py",
   "mimetype": "text/x-python",
   "name": "python",
   "nbconvert_exporter": "python",
   "pygments_lexer": "ipython3",
   "version": "3.6.5"
  }
 },
 "nbformat": 4,
 "nbformat_minor": 2
}
