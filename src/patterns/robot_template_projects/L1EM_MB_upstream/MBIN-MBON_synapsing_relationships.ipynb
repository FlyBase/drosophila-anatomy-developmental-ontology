{
 "cells": [
  {
   "cell_type": "code",
   "execution_count": null,
   "metadata": {},
   "outputs": [],
   "source": [
    "import pandas as pd\n",
    "import csv\n",
    "from collections import OrderedDict\n",
    "\n",
    "MBE_table = pd.read_csv('./spreadsheets/MBINs_MBONs.csv')\n",
    "new_upstream_neuron_table = pd.read_csv('./spreadsheets/FBbt_shortname.tsv', sep='\\t', header=None)\n",
    "existing_IDs = pd.read_csv('./spreadsheets/existing_ID.csv', sep=',')\n",
    "\n",
    "#MBE_table[:10]\n",
    "#new_upstream_neuron_table[:10]"
   ]
  },
  {
   "cell_type": "code",
   "execution_count": null,
   "metadata": {},
   "outputs": [],
   "source": [
    "#dict of new neuron short names (keys) and FBbt IDs (values)\n",
    "ID_lookup = dict(zip(new_upstream_neuron_table[0],new_upstream_neuron_table[1]))#FBbt IDs for existing terms\n",
    "\n",
    "#add MB and group IDs\n",
    "ID_lookup.update(dict(zip(existing_IDs.Keys,existing_IDs.Values)))#FBbt IDs for existing terms\n",
    "#ID_lookup"
   ]
  },
  {
   "cell_type": "code",
   "execution_count": null,
   "metadata": {},
   "outputs": [],
   "source": [
    "# Make a dictionary with key = column header & value = template specification (first row of table).\n",
    "\n",
    "#ID column (optionally add type (default 'class') and class_type (default 'subclass') columns here)\n",
    "\n",
    "template_seed = OrderedDict([('ID' , 'ID')])\n",
    "\n",
    "#Synapsed_by\n",
    "template_seed.update([(\"Synapsed_by\" , \"SC 'synapsed by' some % SPLIT=|\")])\n",
    "    \n",
    "#Synapsed_to\n",
    "template_seed.update([(\"Synapsed_to\" , \"SC 'synapsed to' some % SPLIT=|\")])\n",
    "    \n",
    "# Create dataFrame for template\n",
    "# from_records takes a list of dicts - one for each row.  We only have one row.\n",
    "\n",
    "template = pd.DataFrame.from_records([template_seed])\n",
    "\n",
    "#template"
   ]
  },
  {
   "cell_type": "code",
   "execution_count": null,
   "metadata": {},
   "outputs": [],
   "source": [
    "count = 0 #0 = FBN-1\n",
    "\n",
    "for i in MBE_table.index:\n",
    "\n",
    "    r = MBE_table.short[count]\n",
    "    row_od = OrderedDict([]) #new template row as an empty ordered dictionary\n",
    "    for c in template.columns: #make columns and blank data for new template row\n",
    "        row_od.update([(c , \"\")])\n",
    "    \n",
    "    #add ID\n",
    "    row_od[\"ID\"] = ID_lookup[r]\n",
    "    \n",
    "    #synapsing\n",
    "    if pd.notna(MBE_table.synapsed_by[count]):\n",
    "        synby_ID_list = [ID_lookup[x] for x in MBE_table.synapsed_by[count].split(\" \")]\n",
    "        synby_ID_string = \"\"\n",
    "        for i in synby_ID_list:\n",
    "            synby_ID_string = synby_ID_string + i + \" | \"\n",
    "        row_od[\"Synapsed_by\"] = synby_ID_string.rstrip(\" |\")\n",
    "        \n",
    "    if pd.notna(MBE_table.synapsed_to[count]):\n",
    "        synto_ID_list = [ID_lookup[x] for x in MBE_table.synapsed_to[count].split(\" \")]\n",
    "        synto_ID_string = \"\"\n",
    "        for i in synto_ID_list:\n",
    "            synto_ID_string = synto_ID_string + i + \" | \"\n",
    "        row_od[\"Synapsed_to\"] = synto_ID_string.rstrip(\" |\")    \n",
    "    \n",
    "    #make new row into a DataFrame and add it to template\n",
    "    new_row = pd.DataFrame.from_records([row_od])\n",
    "    template = pd.concat([template, new_row], ignore_index=True, sort=False)\n",
    "\n",
    "    count +=1\n",
    "    \n",
    "#template"
   ]
  },
  {
   "cell_type": "code",
   "execution_count": null,
   "metadata": {},
   "outputs": [],
   "source": [
    "template.to_csv(\"./MB_template.tsv\", sep = \"\\t\", header=True, index=False)"
   ]
  },
  {
   "cell_type": "code",
   "execution_count": null,
   "metadata": {},
   "outputs": [],
   "source": []
  }
 ],
 "metadata": {
  "kernelspec": {
   "display_name": "Python 3",
   "language": "python",
   "name": "python3"
  },
  "language_info": {
   "codemirror_mode": {
    "name": "ipython",
    "version": 3
   },
   "file_extension": ".py",
   "mimetype": "text/x-python",
   "name": "python",
   "nbconvert_exporter": "python",
   "pygments_lexer": "ipython3",
   "version": "3.6.5"
  }
 },
 "nbformat": 4,
 "nbformat_minor": 2
}
