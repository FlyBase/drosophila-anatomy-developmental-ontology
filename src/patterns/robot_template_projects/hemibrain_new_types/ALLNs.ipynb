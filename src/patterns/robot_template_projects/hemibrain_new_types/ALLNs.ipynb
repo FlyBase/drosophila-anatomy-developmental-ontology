{
 "cells": [
  {
   "cell_type": "code",
   "execution_count": null,
   "metadata": {},
   "outputs": [],
   "source": [
    "\"\"\"\n",
    "makes robot template to generate new local neuron cell types \n",
    "based on type:ID mapping in 'new_LNs.tsv' (does not use 'FBbt_name' in file)\n",
    "\"\"\"\n",
    "import pandas as pd\n",
    "import csv\n",
    "import re\n",
    "from num2words import num2words\n",
    "from collections import OrderedDict\n",
    "import numpy as np\n",
    "\n",
    "# load file with types mapped to FBbt:2... IDs, labels, refs\n",
    "cell_types = pd.read_csv('./new_ALLNs.tsv', sep='\\t')\n"
   ]
  },
  {
   "cell_type": "code",
   "execution_count": null,
   "metadata": {},
   "outputs": [],
   "source": [
    "#glomeruli - names matching Schlegel/Task\n",
    "glomeruli = pd.read_csv('./glomerulus_names.tsv', sep='\\t', index_col='name')\n",
    "glomeruli_dict = glomeruli.to_dict(orient='dict')['FBbt_ID']"
   ]
  },
  {
   "cell_type": "code",
   "execution_count": null,
   "metadata": {},
   "outputs": [],
   "source": [
    "LN_pattern = re.compile(\"([lv]+[2]?)(LN)([0-9]+[A-Z]?)\")"
   ]
  },
  {
   "cell_type": "code",
   "execution_count": null,
   "metadata": {},
   "outputs": [],
   "source": [
    "# dataframe of neuroblasts\n",
    "\n",
    "nb_data = np.array([['FBbt:00067348', 'v', 'ALv1'], ['FBbt:00050035', 'v2', 'ALv2'], \\\n",
    "                    ['FBbt:00050038', 'lv', 'ALlv1'], ['FBbt:00067346', 'ad', 'ALad1'], \\\n",
    "                    ['FBbt:00067347', 'l', 'ALl1 (Notch OFF hemilineage)'], \\\n",
    "                    ['FBbt:00067347', 'l2', 'ALl1 (Notch ON hemilineage)']])\n",
    "neuroblasts = pd.DataFrame(nb_data, columns=['ID', 'short', 'name'])\n",
    "neuroblasts = neuroblasts.set_index('short')\n",
    "#neuroblasts"
   ]
  },
  {
   "cell_type": "code",
   "execution_count": null,
   "metadata": {},
   "outputs": [],
   "source": [
    "patterns_dict = {'broad':'FBbt:00051500', 'regional':'FBbt:00049644', \n",
    "                 'sparse':'FBbt:00049647', 'patchy':'FBbt:00049646'}"
   ]
  },
  {
   "cell_type": "code",
   "execution_count": null,
   "metadata": {},
   "outputs": [],
   "source": [
    "def glomerulus_lister(glomeruli):\n",
    "    \"\"\"\n",
    "    Takes a list of glomeruli and outputs them as a string in English\n",
    "    \"\"\"\n",
    "    if (len(glomeruli) == 1) and (glomeruli[0] == 'VP'):\n",
    "        glom_str = \"the %s glomeruli\" % glomeruli[0]\n",
    "    elif (len(glomeruli) == 1):\n",
    "        glom_str = \"the %s glomerulus\" % glomeruli[0]\n",
    "    elif (len(glomeruli) > 1):\n",
    "        glom_str = 'the '\n",
    "        while (len(glomeruli) > 1):\n",
    "            glom_str += ('%s, ' % glomeruli[0])\n",
    "            glomeruli = glomeruli[1:]\n",
    "        glom_str = glom_str.rstrip(', ')\n",
    "        glom_str += (' and %s glomeruli' % glomeruli[0])\n",
    "    \n",
    "    return glom_str\n"
   ]
  },
  {
   "cell_type": "code",
   "execution_count": null,
   "metadata": {},
   "outputs": [],
   "source": [
    "def shortname_splitter(shortname):\n",
    "    \"\"\"\n",
    "    Splits neuron names - at least one (uppercase) letter / three digits.\n",
    "    \"\"\"\n",
    "    m = re.match(LN_pattern, shortname)\n",
    "        \n",
    "    if m: return m.groups()\n",
    "    else:\n",
    "        raise ValueError(shortname + \"could not be split.\")"
   ]
  },
  {
   "cell_type": "code",
   "execution_count": null,
   "metadata": {},
   "outputs": [],
   "source": [
    "def definition_maker(shortname, laterality, pattern, glomeruli):\n",
    "    \"\"\"\n",
    "    Autogenerates term definition based on neuprint type name.\n",
    "    \"\"\"\n",
    "    lineage = (\"neuroblast %s\" % neuroblasts['name'][shortname_splitter(shortname)[0]])\n",
    "    \n",
    "    group = shortname_splitter(shortname)[2]\n",
    "    \n",
    "    if laterality == 'uni':\n",
    "        lat = \"It is unilateral\"\n",
    "    elif laterality == 'bi':\n",
    "        lat = \"It is bilateral\"\n",
    "    \n",
    "    pat = \"and it has a %s arborization pattern\" % pattern\n",
    "        \n",
    "    if glomeruli:\n",
    "        glom = \", with strongest innervation in %s (Schlegel et al., 2021).\" % glomerulus_lister(glomeruli)\n",
    "    else:\n",
    "        glom = \" (Schlegel et al., 2021).\"\n",
    "    \n",
    "    return str(\"Adult local neuron of the antennal lobe that develops from %s and belongs to group %s \"\n",
    "               \"(Schlegel et al., 2021). %s %s%s\"\n",
    "               % (lineage, group, lat, pat, glom))\n"
   ]
  },
  {
   "cell_type": "code",
   "execution_count": null,
   "metadata": {},
   "outputs": [],
   "source": [
    "# Make a dictionary with key - column header & value = template specification (first row of table).\n",
    "\n",
    "template_seed = OrderedDict([ ('ID' , 'ID'), ('CLASS_TYPE' , 'CLASS_TYPE'),\\\n",
    "                             ('RDF_Type' , 'TYPE' )])\n",
    "\n",
    "#label, definition, short synonym:\n",
    "template_seed.update([(\"label\" , \"A rdfs:label\"), (\"definition\" , \"A IAO:0000115\"),\\\n",
    "                      (\"Xref_def\" , \">A oboInOwl:hasDbXref SPLIT=|\"),\\\n",
    "                      (\"created_by\" , \"A oboInOwl:created_by\"),\\\n",
    "                      (\"creation_date\", \"A oboInOwl:creation_date\")])\n",
    "\n",
    "#short name synonym\n",
    "template_seed.update([(\"synonym\" , \"A oboInOwl:hasExactSynonym\"),\\\n",
    "                      (\"comment\" , \"A rdfs:comment\")])\n",
    "\n",
    "# Columns for relationships:\n",
    "template_seed.update([(\"glomeruli\", \"SC 'has synaptic IO in region' some % SPLIT=|\"),\\\n",
    "                      (\"inputs_AL\", \"SC 'receives synaptic input in region' some %\"),\\\n",
    "                      (\"outputs_AL\", \"SC 'sends synaptic output to region' some %\"),\\\n",
    "                      (\"parent\", \"SC %\"), (\"arbor_type\", \"SC %\"),\\\n",
    "                      (\"neuroblast\", \"SC 'develops from' some %\"),\\\n",
    "                      (\"hemilineage\", \"SC %\")])\n",
    "\n",
    "# Create dataFrame for template\n",
    "template = pd.DataFrame.from_records([template_seed])\n",
    "\n",
    "#template"
   ]
  },
  {
   "cell_type": "code",
   "execution_count": null,
   "metadata": {},
   "outputs": [],
   "source": [
    "count = 0 # first row\n",
    "id_mapping = {} # dictionary of ids for types\n",
    "\n",
    "for i in cell_types.index:\n",
    "\n",
    "    row_od = OrderedDict([]) #new template row as an empty ordered dictionary\n",
    "    for c in template.columns: #make columns and blank data for new template row\n",
    "        row_od.update([(c , \"\")])\n",
    "    \n",
    "    np_type = cell_types['np_type'][i]\n",
    "    \n",
    "    #these are the same in each row\n",
    "    row_od[\"CLASS_TYPE\"] = \"subclass\"\n",
    "    row_od[\"RDF_Type\"] = \"owl:Class\"\n",
    "    row_od[\"created_by\"] = \"http://orcid.org/0000-0002-1373-1705\"\n",
    "    row_od[\"comment\"] = str(\"Cell type described based on Janelia hemibrain data (Schlegel et al., 2021).\")\n",
    "    row_od[\"parent\"] = \"FBbt:00007390\"  # adult antennal lobe local neuron\n",
    "    row_od[\"inputs_AL\"] = \"FBbt:00007401\"  # adult antennal lobe\n",
    "    row_od[\"outputs_AL\"] = \"FBbt:00007401\"  # adult antennal lobe\n",
    "\n",
    "    #easy to generate data\n",
    "    row_od[\"ID\"] = cell_types['FBbt_id'][i]\n",
    "    row_od[\"synonym\"] = (\"adult antennal lobe local neuron type %s of neuroblast %s\" \n",
    "                         % (shortname_splitter(np_type)[2], neuroblasts['name'][shortname_splitter(np_type)[0]]))\n",
    "    row_od[\"label\"] = \"adult antennal lobe local neuron %s\" % np_type\n",
    "    row_od[\"Xref_def\"] = cell_types['ref'][i]\n",
    "    row_od[\"creation_date\"] = cell_types['date'][i]\n",
    "    row_od[\"neuroblast\"] = neuroblasts['ID'][shortname_splitter(np_type)[0]]\n",
    "    \n",
    "    # definition\n",
    "    if cell_types.notnull()['glomeruli'][i]:\n",
    "        glom_list = str(cell_types['glomeruli'][i]).split(sep='|')\n",
    "    else:\n",
    "        glom_list = []\n",
    "    \n",
    "    row_od[\"definition\"] = definition_maker(shortname=np_type, \n",
    "                                            laterality=cell_types['laterality'][i], \n",
    "                                            pattern=cell_types['pattern'][i], \n",
    "                                            glomeruli=glom_list)\n",
    "    \n",
    "    # conditional columns\n",
    "    if glom_list:\n",
    "        glom_ids = [glomeruli_dict[g] for g in glom_list]\n",
    "        glom_ids_str = '|'.join(glom_ids)\n",
    "        row_od[\"glomeruli\"] = glom_ids_str\n",
    "    \n",
    "    if cell_types['pattern'][i] in patterns_dict.keys():\n",
    "        row_od[\"arbor_type\"] = patterns_dict[cell_types['pattern'][i]]\n",
    "        \n",
    "    if 'Notch OFF' in row_od[\"definition\"]:\n",
    "        row_od[\"hemilineage\"] = 'FBbt:00049540'\n",
    "    elif 'Notch ON' in row_od[\"definition\"]:\n",
    "        row_od[\"hemilineage\"] = 'FBbt:00049539'\n",
    "            \n",
    "    \n",
    "    #make new row into a DataFrame and add it to template\n",
    "    new_row = pd.DataFrame.from_records([row_od])\n",
    "    template = pd.concat([template, new_row], ignore_index=True, sort=False)\n",
    "\n",
    "    count +=1\n",
    "    \n",
    "    \n",
    "#template.head()"
   ]
  },
  {
   "cell_type": "code",
   "execution_count": null,
   "metadata": {},
   "outputs": [],
   "source": [
    "template.to_csv(\"./template.tsv\", sep = \"\\t\", header=True, index=False)"
   ]
  },
  {
   "cell_type": "code",
   "execution_count": null,
   "metadata": {},
   "outputs": [],
   "source": []
  }
 ],
 "metadata": {
  "kernelspec": {
   "display_name": "Python 3",
   "language": "python",
   "name": "python3"
  },
  "language_info": {
   "codemirror_mode": {
    "name": "ipython",
    "version": 3
   },
   "file_extension": ".py",
   "mimetype": "text/x-python",
   "name": "python",
   "nbconvert_exporter": "python",
   "pygments_lexer": "ipython3",
   "version": "3.8.6"
  }
 },
 "nbformat": 4,
 "nbformat_minor": 4
}
