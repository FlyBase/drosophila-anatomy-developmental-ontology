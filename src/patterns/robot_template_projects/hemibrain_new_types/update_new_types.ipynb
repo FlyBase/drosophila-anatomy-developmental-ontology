{
 "cells": [
  {
   "cell_type": "code",
   "execution_count": null,
   "metadata": {},
   "outputs": [],
   "source": [
    "\"\"\"\n",
    "makes robot template to generate provisional cell types \n",
    "based on type:ID mapping in 'new_cell_types.tsv' (does not use 'FBbt_name' in file)\n",
    "may need to copy across latest hemibrain ROI mapping if this gets updated\n",
    "\"\"\"\n",
    "import pandas as pd\n",
    "import csv\n",
    "import re\n",
    "from num2words import num2words\n",
    "from collections import OrderedDict\n",
    "import numpy as np\n",
    "\n",
    "# load file with types mapped to FBbt:2... IDs, labels, refs\n",
    "cell_types = pd.read_csv('./new_cell_types.tsv', sep='\\t')\n",
    "\n",
    "# copy across latest ROI mapping file from hemibrain_metadata"
   ]
  },
  {
   "cell_type": "code",
   "execution_count": null,
   "metadata": {},
   "outputs": [],
   "source": [
    "# load ROI mapping, remove left/right, keep only capitalised regions\n",
    "\n",
    "roi_mapping = pd.read_csv('./hemibrain_1-1_ROI_mapping.tsv', sep='\\t')\n",
    "roi_mapping['ROI'] = roi_mapping['ROI'].map(\n",
    "    lambda x: re.compile('\\([LR]+\\)').sub('',x))\n",
    "roi_mapping = roi_mapping[roi_mapping['ROI'].str.match('[A-Z]+$')==True]\\\n",
    "    .drop_duplicates().reset_index(drop=True)"
   ]
  },
  {
   "cell_type": "code",
   "execution_count": null,
   "metadata": {},
   "outputs": [],
   "source": [
    "# add entry for 'posterior slope' and 'clamp' (not in hemibrain ROIs?)\n",
    "\n",
    "roi_mapping = roi_mapping.append({'ROI': 'PS', 'FBbt_id': 'FBbt:00040072', 'FBbt_name': 'posterior slope'}, \n",
    "                   ignore_index=True)\n",
    "roi_mapping = roi_mapping.append({'ROI': 'CL', 'FBbt_id': 'FBbt:00040047', 'FBbt_name': 'clamp'}, \n",
    "                   ignore_index=True)"
   ]
  },
  {
   "cell_type": "code",
   "execution_count": null,
   "metadata": {},
   "outputs": [],
   "source": [
    "# patterns for different types of neuprint label (used by functions)\n",
    "TI_pattern = re.compile(\"([A-Z]+)([0-9][0-9][0-9]$)\")\n",
    "multiPN_pattern = re.compile(\"(M_)([lvad]+[2]?)(PN)([0-9]*[mlt]+)([0-9]+[A-Z]?)\")"
   ]
  },
  {
   "cell_type": "code",
   "execution_count": null,
   "metadata": {},
   "outputs": [],
   "source": [
    "# dataframe of neuroblasts\n",
    "\n",
    "nb_data = np.array([['FBbt:00067348', 'v', 'ALv1'], ['FBbt:00050035', 'v2', 'ALv2'], \\\n",
    "                    ['FBbt:00050038', 'lv', 'ALlv1'], ['FBbt:00067346', 'ad', 'ALad1'], \\\n",
    "                    ['FBbt:00067347', 'l', 'ALl1 (Notch OFF hemilineage)'], \\\n",
    "                    ['FBbt:00067347', 'l2', 'ALl1 (Notch ON hemilineage)']])\n",
    "neuroblasts = pd.DataFrame(nb_data, columns=['ID', 'short', 'name'])\n",
    "neuroblasts = neuroblasts.set_index('short')\n",
    "#neuroblasts"
   ]
  },
  {
   "cell_type": "code",
   "execution_count": null,
   "metadata": {},
   "outputs": [],
   "source": [
    "# dataframe of tracts\n",
    "\n",
    "tract_data = np.array([['FBbt:00003985', 'm', 'medial antennal lobe tract'], \\\n",
    "                       ['FBbt:00003983', 'l', 'lateral antennal lobe tract'], \\\n",
    "                       ['FBbt:00003984', 'ml', 'mediolateral antennal lobe tract'], \\\n",
    "                       ['FBbt:00049719', '10t', 'transverse antennal lobe t10ALT tract']])\n",
    "tracts = pd.DataFrame(tract_data, columns=['ID', 'short', 'name'])\n",
    "tracts = tracts.set_index('short')\n",
    "#tracts"
   ]
  },
  {
   "cell_type": "code",
   "execution_count": null,
   "metadata": {},
   "outputs": [],
   "source": [
    "def type_checker(shortname):\n",
    "    if re.match(TI_pattern,shortname):\n",
    "        return 'TI'\n",
    "    elif re.match(multiPN_pattern,shortname):\n",
    "        return 'multi'\n",
    "    else:\n",
    "        raise ValueError(\"Invalid neuron name - \" + shortname)"
   ]
  },
  {
   "cell_type": "code",
   "execution_count": null,
   "metadata": {},
   "outputs": [],
   "source": [
    "def neuropil_writer(shortname):\n",
    "    neuropil = str(list(roi_mapping[roi_mapping['ROI'] == shortname_splitter(shortname)[0]]['FBbt_name'])[0])\n",
    "    return neuropil.replace('adult ', '')"
   ]
  },
  {
   "cell_type": "code",
   "execution_count": null,
   "metadata": {},
   "outputs": [],
   "source": [
    "# functions for terra incognita neurons\n",
    "\n",
    "def shortname_splitter(shortname):\n",
    "    \"\"\"\n",
    "    Splits neuron names - at least one (uppercase) letter / three digits.\n",
    "    \"\"\"\n",
    "    name_type = type_checker(shortname)\n",
    "    if name_type == 'TI':\n",
    "        m = re.match(TI_pattern, shortname)\n",
    "    elif name_type == 'multi':\n",
    "        m = re.match(multiPN_pattern, shortname)\n",
    "        \n",
    "    if m: return m.groups()\n",
    "    else:\n",
    "        raise ValueError(shortname + \"could not be split.\")\n"
   ]
  },
  {
   "cell_type": "code",
   "execution_count": null,
   "metadata": {},
   "outputs": [],
   "source": [
    "\n",
    "def label_maker(shortname):\n",
    "    \"\"\"\n",
    "    Autogenerates term label based on neuprint type name.\n",
    "    \"\"\"\n",
    "    if type_checker(shortname) == 'TI':\n",
    "        neuropil = neuropil_writer(shortname)\n",
    "        return \"adult %s neuron %s\" % (neuropil, shortname_splitter(shortname)[1])\n",
    "    elif type_checker(shortname) == 'multi':\n",
    "        return \"adult multiglomerular antennal lobe projection neuron type %s %sPN\" % \\\n",
    "            (shortname_splitter(shortname)[4], shortname_splitter(shortname)[1])\n",
    "    else:\n",
    "        raise ValueError(\"Could not make label for \" + shortname)\n"
   ]
  },
  {
   "cell_type": "code",
   "execution_count": null,
   "metadata": {},
   "outputs": [],
   "source": [
    "def definition_maker(shortname):\n",
    "    \"\"\"\n",
    "    Autogenerates term definition based on neuprint type name.\n",
    "    \"\"\"\n",
    "    if type_checker(shortname) == 'TI':\n",
    "        return str(\"Adult neuron belonging to group %s of the terra incognita neurons with substantial synapsing \"\n",
    "            \"in the %s (Scheffer et al., 2020).\" % (shortname_splitter(shortname)[1], neuropil_writer(shortname)))\n",
    "    elif type_checker(shortname) == 'multi':\n",
    "        return str(\"Adult multiglomerular antennal lobe projection neuron belonging to group %s \"\n",
    "                   \"(Scheffer et al., 2020). These neurons develop from neuroblast %s and follow \"\n",
    "                   \"the %s (Bates et al., 2020; Scheffer et al., 2020).\" \n",
    "                   % (shortname_splitter(shortname)[4], neuroblasts['name'][shortname_splitter(shortname)[1]], \n",
    "                   tracts['name'][shortname_splitter(shortname)[3]]))\n",
    "    else:\n",
    "        raise ValueError(\"Could not make definition for \" + shortname)"
   ]
  },
  {
   "cell_type": "code",
   "execution_count": null,
   "metadata": {},
   "outputs": [],
   "source": [
    "# Make a dictionary with key - column header & value = template specification (first row of table).\n",
    "\n",
    "template_seed = OrderedDict([ ('ID' , 'ID'), ('CLASS_TYPE' , 'CLASS_TYPE'),\\\n",
    "                             ('RDF_Type' , 'TYPE' )])\n",
    "\n",
    "# fields for obo ID and namespace\n",
    "template_seed.update([(\"obo_id\" , \"A oboInOwl:id\"), (\"obo_namespace\" , \"A oboInOwl:hasOBONamespace\")])\n",
    "\n",
    "#label, definition, short synonym:\n",
    "template_seed.update([(\"label\" , \"A rdfs:label\"), (\"definition\" , \"A IAO:0000115\"),\\\n",
    "                      (\"Xref_def\" , \">A oboInOwl:hasDbXref SPLIT=|\"),\\\n",
    "                      (\"created_by\" , \"A oboInOwl:created_by\"),\\\n",
    "                      (\"creation_date\", \"A oboInOwl:creation_date\")])\n",
    "\n",
    "#short name synonym\n",
    "template_seed.update([(\"synonym\" , \"A oboInOwl:hasExactSynonym\"),\\\n",
    "                      (\"syn_ref\" , \">A oboInOwl:hasDbXref\"),\\\n",
    "                      (\"comment\" , \"A rdfs:comment\")])\n",
    "\n",
    "# Columns for relationships:\n",
    "template_seed.update([(\"synapses\", \"SC 'has synaptic IO in region' some %\"),\\\n",
    "                      (\"inputs\", \"SC 'receives synaptic input in region' some %\"),\\\n",
    "                      (\"parent\", \"SC %\"), (\"neuroblast\", \"SC 'develops from' some %\"),\\\n",
    "                      (\"tract\", \"SC 'fasciculates with' some %\"), (\"hemilineage\", \"SC %\")])\n",
    "\n",
    "# Create dataFrame for template\n",
    "template = pd.DataFrame.from_records([template_seed])\n",
    "\n",
    "#template"
   ]
  },
  {
   "cell_type": "code",
   "execution_count": null,
   "metadata": {},
   "outputs": [],
   "source": [
    "count = 0 # first row\n",
    "id_mapping = {} # dictionary of ids for types\n",
    "\n",
    "for i in cell_types.index:\n",
    "\n",
    "    row_od = OrderedDict([]) #new template row as an empty ordered dictionary\n",
    "    for c in template.columns: #make columns and blank data for new template row\n",
    "        row_od.update([(c , \"\")])\n",
    "    \n",
    "    np_type = cell_types['np_type'][i]\n",
    "    \n",
    "    #these are the same in each row\n",
    "    row_od[\"CLASS_TYPE\"] = \"subclass\"\n",
    "    row_od[\"RDF_Type\"] = \"owl:Class\"\n",
    "    row_od[\"Xref_def\"] = cell_types['ref'][i]\n",
    "    row_od[\"syn_ref\"] = cell_types['ref'][i]\n",
    "    row_od[\"created_by\"] = \"http://orcid.org/0000-0002-1373-1705\"\n",
    "    row_od[\"creation_date\"] = cell_types['date'][i]\n",
    "    row_od[\"comment\"] = str(\"Uncharacterized putative cell type (based on clustering analysis) \"\n",
    "        \"from Janelia hemibrain data (Scheffer et al., 2020).\")\n",
    "    row_od['obo_namespace'] = \"fly_anatomy.ontology\"\n",
    "\n",
    "    #easy to generate data\n",
    "    row_od[\"ID\"] = cell_types['FBbt_id'][i]\n",
    "    row_od['obo_id'] = cell_types['FBbt_id'][i]\n",
    "    row_od[\"synonym\"] = \"adult %s neuron\" % np_type\n",
    "    row_od[\"label\"] = label_maker(np_type)\n",
    "    row_od[\"definition\"] = definition_maker(np_type)\n",
    "    \n",
    "    \n",
    "    # conditional columns\n",
    "    if type_checker(np_type) == 'TI':\n",
    "        row_od[\"parent\"] = \"FBbt:00047095\" # adult neuron\n",
    "        row_od[\"synapses\"] = str(list(roi_mapping[roi_mapping['ROI'] == shortname_splitter(np_type)[0]]['FBbt_id'])[0])\n",
    "        \n",
    "    if type_checker(np_type) == 'multi':\n",
    "        row_od[\"parent\"] = \"FBbt:00007441\" # adult multiglomerular antennal lobe projection neuron\n",
    "        row_od[\"neuroblast\"] = neuroblasts['ID'][shortname_splitter(np_type)[1]]\n",
    "        row_od[\"tract\"] = tracts['ID'][shortname_splitter(np_type)[3]]\n",
    "        row_od[\"inputs\"] = str(list(roi_mapping[roi_mapping['ROI'] == 'AL']['FBbt_id'])[0])\n",
    "        row_od[\"Xref_def\"]+=(\"|FlyBase:FBrf0246460\")\n",
    "        \n",
    "    if 'Notch OFF' in row_od[\"definition\"]:\n",
    "        row_od[\"hemilineage\"] = 'FBbt:00049540'\n",
    "    elif 'Notch ON' in row_od[\"definition\"]:\n",
    "        row_od[\"hemilineage\"] = 'FBbt:00049539'\n",
    "            \n",
    "    \n",
    "    #make new row into a DataFrame and add it to template\n",
    "    new_row = pd.DataFrame.from_records([row_od])\n",
    "    template = pd.concat([template, new_row], ignore_index=True, sort=False)\n",
    "\n",
    "    count +=1\n",
    "    \n",
    "    \n",
    "#template.head()"
   ]
  },
  {
   "cell_type": "code",
   "execution_count": null,
   "metadata": {},
   "outputs": [],
   "source": [
    "template.to_csv(\"./template.tsv\", sep = \"\\t\", header=True, index=False)"
   ]
  }
 ],
 "metadata": {
  "kernelspec": {
   "display_name": "Python 3",
   "language": "python",
   "name": "python3"
  },
  "language_info": {
   "codemirror_mode": {
    "name": "ipython",
    "version": 3
   },
   "file_extension": ".py",
   "mimetype": "text/x-python",
   "name": "python",
   "nbconvert_exporter": "python",
   "pygments_lexer": "ipython3",
   "version": "3.8.6"
  }
 },
 "nbformat": 4,
 "nbformat_minor": 4
}
