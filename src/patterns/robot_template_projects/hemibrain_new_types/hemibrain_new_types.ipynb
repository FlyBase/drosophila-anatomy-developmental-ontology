{
 "cells": [
  {
   "cell_type": "code",
   "execution_count": null,
   "metadata": {},
   "outputs": [],
   "source": [
    "# This is to generate NEW cell types - for updates use update_new_types.ipynb\n",
    "\n",
    "import pandas as pd\n",
    "import csv\n",
    "import re\n",
    "from num2words import num2words\n",
    "from collections import OrderedDict\n",
    "\n",
    "# check last FBbt:2... id\n",
    "start_id = 'FBbt:20003734'\n",
    "\n",
    "# copy across latest mapping files from hemibrain_metadata"
   ]
  },
  {
   "cell_type": "code",
   "execution_count": null,
   "metadata": {},
   "outputs": [],
   "source": [
    "# load ROI mapping, remove left/right, keep only capitalised regions\n",
    "\n",
    "roi_mapping = pd.read_csv('./hemibrain_1-1_ROI_mapping.tsv', sep='\\t')\n",
    "roi_mapping['ROI'] = roi_mapping['ROI'].map(\n",
    "    lambda x: re.compile('\\([LR]+\\)').sub('',x))\n",
    "roi_mapping = roi_mapping[roi_mapping['ROI'].str.match('[A-Z]+$')==True]\\\n",
    "    .drop_duplicates().reset_index(drop=True)\n"
   ]
  },
  {
   "cell_type": "code",
   "execution_count": null,
   "metadata": {},
   "outputs": [],
   "source": [
    "# add entry for 'posterior slope' and 'clamp' (not in hemibrain ROIs?)\n",
    "\n",
    "roi_mapping = roi_mapping.append({'ROI': 'PS', 'FBbt_id': 'FBbt:00040072', 'FBbt_name': 'posterior slope'}, \n",
    "                   ignore_index=True)\n",
    "roi_mapping = roi_mapping.append({'ROI': 'CL', 'FBbt_id': 'FBbt:00040047', 'FBbt_name': 'clamp'}, \n",
    "                   ignore_index=True)"
   ]
  },
  {
   "cell_type": "code",
   "execution_count": null,
   "metadata": {},
   "outputs": [],
   "source": [
    "# load types mapping, remove any already mapped, drop _a,b,c subtypes\n",
    "\n",
    "type_mapping = pd.read_csv('./hemibrain_1-1_type_mapping.tsv', sep='\\t')\n",
    "new_types = type_mapping[type_mapping['FBbt_id'].isnull()]['np_type']\n",
    "new_types = new_types.map(lambda x: re.compile('_[a-z]').sub('',x))\n",
    "new_types = new_types.drop_duplicates().reset_index(drop=True)\n"
   ]
  },
  {
   "cell_type": "code",
   "execution_count": null,
   "metadata": {},
   "outputs": [],
   "source": [
    "# get unmapped types where name is ROI followed by 3 numbers\n",
    "\n",
    "new_types = new_types[new_types.map(\n",
    "    lambda x: re.compile('[0-9][0-9][0-9]$').sub('',x)).isin(list(roi_mapping['ROI']))]\n"
   ]
  },
  {
   "cell_type": "code",
   "execution_count": null,
   "metadata": {},
   "outputs": [],
   "source": [
    "# Make a dictionary with key - column header & value = template specification (first row of table).\n",
    "\n",
    "template_seed = OrderedDict([ ('ID' , 'ID'), ('CLASS_TYPE' , 'CLASS_TYPE'),\\\n",
    "                             ('RDF_Type' , 'TYPE' )])\n",
    "\n",
    "#label, definition, short synonym:\n",
    "template_seed.update([(\"Name\" , \"A rdfs:label\"), (\"definition\" , \"A IAO:0000115\"),\\\n",
    "                      (\"Xref_def\" , \">A oboInOwl:hasDbXref\"),\\\n",
    "                      (\"created_by\" , \"AI dc:contributor\"),\\\n",
    "                      (\"creation_date\", \"AT dc:date^^xsd:dateTime\")])\n",
    "\n",
    "#short name synonym\n",
    "template_seed.update([(\"Synonym\" , \"A oboInOwl:hasExactSynonym\"),\\\n",
    "                      (\"syn_ref\" , \">A oboInOwl:hasDbXref\"),\\\n",
    "                      (\"comment\" , \"A rdfs:comment\")])\n",
    "\n",
    "# Columns for tract superclass:\n",
    "template_seed.update([(\"synapses\" , \"SC 'has synaptic IO in' some %\"),\\\n",
    "                      (\"adult_neuron\", \"SC %\")])\n",
    "\n",
    "# Create dataFrame for template\n",
    "template = pd.DataFrame.from_records([template_seed])\n",
    "\n",
    "#template"
   ]
  },
  {
   "cell_type": "code",
   "execution_count": null,
   "metadata": {},
   "outputs": [],
   "source": [
    "def shortname_splitter(shortname):\n",
    "    \"\"\"\n",
    "    Splits neuron names - at least one (uppercase) letter / three digits.\n",
    "    \"\"\"\n",
    "    m = re.match(\"([A-Z]+)([0-9][0-9][0-9]$)\",shortname)\n",
    "    if m: return m.groups()\n",
    "    else:\n",
    "        raise ValueError(\"Invalid neuron name.\")"
   ]
  },
  {
   "cell_type": "code",
   "execution_count": null,
   "metadata": {},
   "outputs": [],
   "source": [
    "def label_maker(shortname):\n",
    "    neuropil = str(list(roi_mapping[roi_mapping['ROI'] == shortname_splitter(shortname)[0]]['FBbt_name'])[0])\n",
    "    neuropil = neuropil.replace('adult ', '')\n",
    "    return \"adult %s neuron %s\" % (neuropil, shortname_splitter(shortname)[1])"
   ]
  },
  {
   "cell_type": "code",
   "execution_count": null,
   "metadata": {},
   "outputs": [],
   "source": [
    "def id_advance(start_id, increase):\n",
    "    \"\"\"\n",
    "    Advances an id string ('start_id') e.g. 'FBbt:00000000' by 'increase' and returns a string.\n",
    "    \"\"\"\n",
    "    start_number = start_id.split(sep=':')[1]\n",
    "    new_number = str(int(start_number) + increase).zfill(8)\n",
    "    output_id = start_id.split(sep=':')[0] + ':' + new_number\n",
    "    return output_id"
   ]
  },
  {
   "cell_type": "code",
   "execution_count": null,
   "metadata": {},
   "outputs": [],
   "source": [
    "count = 0 # first row\n",
    "id_mapping = {} # dictionary of ids for types\n",
    "\n",
    "for i in new_types.index:\n",
    "\n",
    "    r = new_types[i]\n",
    "    row_od = OrderedDict([]) #new template row as an empty ordered dictionary\n",
    "    for c in template.columns: #make columns and blank data for new template row\n",
    "        row_od.update([(c , \"\")])\n",
    "    \n",
    "    #these are the same in each row\n",
    "    row_od[\"CLASS_TYPE\"] = \"subclass\"\n",
    "    row_od[\"RDF_Type\"] = \"owl:Class\"\n",
    "    row_od[\"Xref_def\"] = \"doi:10.1101/2020.04.07.030213\"\n",
    "    row_od[\"syn_ref\"] = \"doi:10.1101/2020.04.07.030213\"\n",
    "    row_od[\"created_by\"] = \"http://orcid.org/0000-0002-1373-1705\"\n",
    "    row_od[\"creation_date\"] = \"2020-07-30T12:00:00Z\"\n",
    "    row_od[\"definition\"] = '.'\n",
    "    row_od[\"comment\"] = \"Poorly-characterized cell type from Janelia hemibrain data (Scheffer et al., 2020).\"\n",
    "    row_od[\"adult_neuron\"] = \"FBbt:00047095\"\n",
    "\n",
    "    #easy to generate data\n",
    "    row_od[\"ID\"] = id_advance(start_id, count)\n",
    "    row_od[\"Synonym\"] = \"adult %s neuron\" % r\n",
    "    row_od[\"Name\"] = label_maker(r)\n",
    "    row_od[\"synapses\"] = str(list(roi_mapping[roi_mapping['ROI'] == shortname_splitter(r)[0]]['FBbt_id'])[0])\n",
    "    \n",
    "    #make new row into a DataFrame and add it to template\n",
    "    new_row = pd.DataFrame.from_records([row_od])\n",
    "    template = pd.concat([template, new_row], ignore_index=True, sort=False)\n",
    "\n",
    "    count +=1\n",
    "    \n",
    "    id_mapping[new_types[i]] = row_od[\"ID\"] # add to dictionary\n",
    "    \n",
    "#template"
   ]
  },
  {
   "cell_type": "code",
   "execution_count": null,
   "metadata": {},
   "outputs": [],
   "source": [
    "template.to_csv(\"./template.tsv\", sep = \"\\t\", header=True, index=False)"
   ]
  },
  {
   "cell_type": "code",
   "execution_count": null,
   "metadata": {},
   "outputs": [],
   "source": [
    "# add FBbt IDs to hemibrain mapping file\n",
    "type_mapping['shortname'] = type_mapping['np_type'].map(lambda x: re.compile('_[a-z]').sub('',x))\n"
   ]
  },
  {
   "cell_type": "code",
   "execution_count": null,
   "metadata": {},
   "outputs": [],
   "source": [
    "for i in type_mapping.index:\n",
    "    if type_mapping['FBbt_id'].isnull()[i]:\n",
    "        try:\n",
    "            type_mapping['FBbt_id'][i] = id_mapping[type_mapping['shortname'][i]]\n",
    "        except KeyError:\n",
    "            continue\n"
   ]
  },
  {
   "cell_type": "code",
   "execution_count": null,
   "metadata": {},
   "outputs": [],
   "source": [
    "type_mapping = type_mapping.drop(['shortname'], axis=1)\n"
   ]
  },
  {
   "cell_type": "code",
   "execution_count": null,
   "metadata": {},
   "outputs": [],
   "source": [
    "type_mapping.to_csv('./hemibrain_1-1_type_mapping.tsv', sep='\\t', index=None)"
   ]
  },
  {
   "cell_type": "code",
   "execution_count": null,
   "metadata": {},
   "outputs": [],
   "source": []
  }
 ],
 "metadata": {
  "kernelspec": {
   "display_name": "Python 3 (ipykernel)",
   "language": "python",
   "name": "python3"
  },
  "language_info": {
   "codemirror_mode": {
    "name": "ipython",
    "version": 3
   },
   "file_extension": ".py",
   "mimetype": "text/x-python",
   "name": "python",
   "nbconvert_exporter": "python",
   "pygments_lexer": "ipython3",
   "version": "3.9.6"
  }
 },
 "nbformat": 4,
 "nbformat_minor": 2
}
