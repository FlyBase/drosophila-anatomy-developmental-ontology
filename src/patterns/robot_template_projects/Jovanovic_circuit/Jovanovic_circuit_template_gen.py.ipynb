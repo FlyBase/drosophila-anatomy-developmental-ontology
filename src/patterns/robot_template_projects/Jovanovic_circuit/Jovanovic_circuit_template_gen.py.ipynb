{
 "cells": [
  {
   "cell_type": "code",
   "execution_count": null,
   "metadata": {},
   "outputs": [],
   "source": [
    "import pandas as pd\n",
    "\n",
    "# Turn CSV into a pandas DataFrame\n",
    "\n",
    "connectivity_tab = pd.read_csv('./T_1-s2.0-S0092867416312429-mmc5.csv', sep=',')\n",
    "#T_ is the transposed version\n",
    "\n",
    "# Show first 10 rows of table\n",
    "\n",
    "connectivity_tab[0:10]\n"
   ]
  },
  {
   "cell_type": "code",
   "execution_count": null,
   "metadata": {},
   "outputs": [],
   "source": [
    "# Make a list of column names to use as keys in lookup\n",
    "columns = list(connectivity_tab.columns)\n",
    "columns[0:5] # Return first five columns"
   ]
  },
  {
   "cell_type": "code",
   "execution_count": null,
   "metadata": {},
   "outputs": [],
   "source": [
    "fbrf_table = pd.read_csv('./fbrf-table.csv', sep=',')\n",
    "fbrf_table[0:5]"
   ]
  },
  {
   "cell_type": "code",
   "execution_count": null,
   "metadata": {},
   "outputs": [],
   "source": [
    "# dictionary for neurons and IDs:\n",
    "\n",
    "lookup = dict(zip(fbrf_table.Keys,fbrf_table.Values))\n",
    "\n",
    "lookup"
   ]
  },
  {
   "cell_type": "code",
   "execution_count": null,
   "metadata": {},
   "outputs": [],
   "source": [
    "# Make a set (uniqued list) of all values in lookup\n",
    "\n",
    "neurons = set(lookup.values())\n",
    "neurons"
   ]
  },
  {
   "cell_type": "code",
   "execution_count": null,
   "metadata": {},
   "outputs": [],
   "source": [
    "# Make a dictionary with key - column header & value = template specification (first row of table).\n",
    "# Meks first two columns\n",
    "\n",
    "template_seed = { 'ID': 'ID', 'CLASS_TYPE': 'CLASS_TYPE',  'RDF_Type' : \n",
    "'TYPE' }\n",
    "\n",
    "# The rest of the columns have the neuron id as the column name + template spec in row 1:\n",
    "data_columns = { n : \"C 'synapsed to' some %\" for n in neurons }\n",
    "\n",
    "# Add data columns to template seed\n",
    "\n",
    "template_seed.update(data_columns)\n",
    "\n",
    "# Create dataFrame for template\n",
    "# from_records takes a list of dicts - one for each row.  We only have one row.\n",
    "\n",
    "template = pd.DataFrame.from_records([template_seed])  \n",
    "\n"
   ]
  },
  {
   "cell_type": "code",
   "execution_count": null,
   "metadata": {
    "scrolled": true
   },
   "outputs": [],
   "source": [
    "# Iterate over input table rows\n",
    "## Iterate over rows.\n",
    "\n",
    "# Using a dict of dicts as an intermediate data structure.  Surely better to assign directly to DataFrame?\n",
    "rows = {}\n",
    "for i, r in connectivity_tab.iterrows():\n",
    "    input_row_key = r[0].lstrip() # use the first column as key for row.  Make sure no trailing/leading whitespace\n",
    "    # Skip to next iteration if row key not in lookup:\n",
    "    if not input_row_key in lookup.keys(): continue\n",
    "    output_row_key = lookup[input_row_key] #input_row_key is name, output_row_key is FBbt\n",
    "    if not output_row_key in rows: #don't replace an existing entry with new entry\n",
    "        row_dict = { 'ID' : output_row_key, 'CLASS_TYPE' : 'subclass', 'RDF_Type' : 'owl:class'}\n",
    "    counter = 0\n",
    "    # iterate over row (k = key/column header, v = value of cell)\n",
    "    for k,v in r.items():\n",
    "        key = k.lstrip()  # Turns out that headers have a leading space. This strips it.\n",
    "        counter += 1\n",
    "        # Skip the first column\n",
    "        if counter == 1: continue\n",
    "        # check we can lookup key\n",
    "        if key in lookup.keys():\n",
    "            # lookup fbbt ID\n",
    "            fbbt = lookup[key]\n",
    "            if fbbt in row_dict and row_dict[fbbt] == fbbt: continue #do not overwrite values with blanks\n",
    "            else:\n",
    "                # default assumption = 0 synapses\n",
    "                row_dict[fbbt] = ''\n",
    "                # over-ride default if v > 0 for any key mapping to fbbt\n",
    "                # v is a string, we need to turn it into an integer before checking it's > 0\n",
    "                if int(v) > 0:\n",
    "                    row_dict[fbbt] = fbbt\n",
    "    rows[output_row_key] = row_dict\n",
    "    \n",
    "out = template.append(list(rows.values()))\n",
    "out"
   ]
  },
  {
   "cell_type": "code",
   "execution_count": null,
   "metadata": {},
   "outputs": [],
   "source": [
    "out.to_csv(\"Jovanovic_template.csv\", sep=\",\", index=False)"
   ]
  },
  {
   "cell_type": "code",
   "execution_count": null,
   "metadata": {},
   "outputs": [],
   "source": []
  }
 ],
 "metadata": {
  "kernelspec": {
   "display_name": "Python 3",
   "language": "python",
   "name": "python3"
  },
  "language_info": {
   "codemirror_mode": {
    "name": "ipython",
    "version": 3
   },
   "file_extension": ".py",
   "mimetype": "text/x-python",
   "name": "python",
   "nbconvert_exporter": "python",
   "pygments_lexer": "ipython3",
   "version": "3.6.5"
  }
 },
 "nbformat": 4,
 "nbformat_minor": 2
}
