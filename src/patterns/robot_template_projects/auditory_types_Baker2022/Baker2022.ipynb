{
 "cells": [
  {
   "cell_type": "code",
   "execution_count": null,
   "id": "e4d898e6-27bc-4842-8d7e-dcf12f545e3c",
   "metadata": {},
   "outputs": [],
   "source": [
    "# Notebook for generating descriptions of new cell types not identified in EM from info in fig S2\n",
    "# see https://github.com/FlyBase/drosophila-anatomy-developmental-ontology/issues/2073"
   ]
  },
  {
   "cell_type": "code",
   "execution_count": null,
   "id": "4f1397df-645c-447a-b21c-76ea864a3ff1",
   "metadata": {},
   "outputs": [],
   "source": [
    "import pandas as pd\n",
    "import csv\n",
    "import re\n",
    "from num2words import num2words\n",
    "from collections import OrderedDict\n",
    "\n",
    "# Input data\n",
    "new_terms = pd.read_csv('new_types.tsv', sep='\\t', dtype='str')\n",
    "region_ids = pd.read_csv('region_fbbt.tsv', sep='\\t', dtype='str', index_col='region')\n",
    "data = pd.read_csv('neuron_regions.tsv', sep='\\t', dtype='str')\n",
    "\n",
    "#data[:10]"
   ]
  },
  {
   "cell_type": "code",
   "execution_count": null,
   "id": "4bba55d4-a111-417e-be1e-9d237128b0fb",
   "metadata": {},
   "outputs": [],
   "source": [
    "# Make a dictionary with key - column header & value = template specification (first row of table).\n",
    "\n",
    "template_seed = OrderedDict([ ('ID' , 'ID'), (\"Name\" , \"A rdfs:label\"), (\"Definition\" , \"A IAO:0000115\"),\\\n",
    "                      (\"Xref_def\" , \">A oboInOwl:hasDbXref\"),\\\n",
    "                      (\"created_by\" , \"AI dc:contributor\"),\\\n",
    "                      (\"creation_date\", \"AT dc:date^^xsd:dateTime\"), (\"comment\" , \"A rdfs:comment\")])\n",
    "\n",
    "# Columns for function innervation, type, p_o assertion:\n",
    "template_seed.update([(\"function\" , \"SC 'capable of' some %\"),\\\n",
    "                      (\"type\", \"SC %\"),\\\n",
    "                      (\"innervation\", \"SC 'has synaptic IO in region' some % SPLIT=|\"),\\\n",
    "                      (\"laterality\", \"SC 'has characteristic' some %\"),\\\n",
    "                      (\"adult_CNS\", \"SC 'part of' some %\")])\n",
    "\n",
    "# Create dataFrame for template\n",
    "template_header = pd.DataFrame.from_records([template_seed])\n",
    "\n",
    "template_header"
   ]
  },
  {
   "cell_type": "code",
   "execution_count": null,
   "id": "5b4f6a9c-df5a-4457-8210-f6169f545090",
   "metadata": {},
   "outputs": [],
   "source": [
    "comment = \"Only studied in females and not matched to EM data (Baker et al., 2022).\"\n",
    "xref = \"FlyBase:FBrf0254226\"\n",
    "creator = \"https://orcid.org/0000-0002-1373-1705\"\n",
    "date = \"2025-05-06T12:00:00Z\"\n",
    "adult_CNS = \"FBbt:00003623\"\n",
    "projection_neuron = \"FBbt:00007392\""
   ]
  },
  {
   "cell_type": "code",
   "execution_count": null,
   "id": "5daca6b0-1b23-4477-9e31-9de58b8eb545",
   "metadata": {},
   "outputs": [],
   "source": [
    "def get_regions(cell_type):\n",
    "    df = data[data['cell_type']==cell_type].reset_index(drop=True)\n",
    "    region_names = []\n",
    "    for c in df.columns.values:\n",
    "        if df[c][0] == '1':\n",
    "            region_names.append(c)\n",
    "    region_fbbts = {region_ids['FBbt_id'][r]: region_ids['FBbt_name'][r] for r in region_names}\n",
    "    return region_fbbts\n",
    "#get_regions('AVLP_pr31')"
   ]
  },
  {
   "cell_type": "code",
   "execution_count": null,
   "id": "44a75487-ba28-49ce-aaec-f19da6de8ef6",
   "metadata": {},
   "outputs": [],
   "source": [
    "def check_function(cell_type):\n",
    "    df = data[data['cell_type']==cell_type].reset_index(drop=True)\n",
    "    if df['function'][0] == 'sine':\n",
    "        return \" It responds to male sine song (Baker et al., 2022).\"\n",
    "    if df['function'][0] == 'pulse':\n",
    "        return \" It responds to male pulse song (Baker et al., 2022).\"\n",
    "    if df['function'][0] == 'both':\n",
    "        return \" It responds to male pulse and sine song (Baker et al., 2022).\"\n",
    "    else:\n",
    "        return \"\"\n",
    "check_function('AVLP_pr31')"
   ]
  },
  {
   "cell_type": "code",
   "execution_count": null,
   "id": "1591be01-96a5-4c88-b293-27af9ea9245e",
   "metadata": {},
   "outputs": [],
   "source": [
    "def check_laterality(cell_type):\n",
    "    df = data[data['cell_type']==cell_type].reset_index(drop=True)\n",
    "    if df['laterality'][0] == 'ipsi':\n",
    "        return (\" It remains ipsilateral (Baker et al., 2022).\", 'PATO:0000634')\n",
    "    if df['laterality'][0] == 'axon':\n",
    "        return (\" It has an axon that crosses the midline (Baker et al., 2022).\", 'PATO:0000618')\n",
    "    if df['laterality'][0] == 'neurites':\n",
    "        return (\" Some neurites cross the midline (Baker et al., 2022).\", 'PATO:0000618')\n",
    "    else:\n",
    "        return (\"\", '')\n",
    "check_function('AVLP_pr31')"
   ]
  },
  {
   "cell_type": "code",
   "execution_count": null,
   "id": "5dec6f02-e018-4602-b93f-e3234c70e840",
   "metadata": {},
   "outputs": [],
   "source": [
    "def name_lister(names):\n",
    "    L = \"\"\n",
    "    if len(names) < 1:\n",
    "        return False\n",
    "    elif len(names) == 1:\n",
    "        return names[0]\n",
    "    elif len(names) > 1:\n",
    "        L = names[0]\n",
    "        if len(names) > 2:\n",
    "            for i in names[1:-1]:\n",
    "                L = L + \", \" + i\n",
    "        L = L + \" and \" + names[-1]\n",
    "        return L"
   ]
  },
  {
   "cell_type": "code",
   "execution_count": null,
   "id": "31864313-ce5d-4e2d-b2e4-91d29cc09afb",
   "metadata": {},
   "outputs": [],
   "source": [
    "def definition_writer(cell_type):\n",
    "    regions = get_regions(cell_type)\n",
    "    definition = f\"Adult projection neuron of the {cell_type} group, which innervates the {name_lister(list(regions.values()))} (Baker et al., 2022).\"\n",
    "    definition += check_function(cell_type)\n",
    "    definition += check_laterality(cell_type)[0]\n",
    "    return definition\n",
    "definition_writer('AVLP_pr03')"
   ]
  },
  {
   "cell_type": "code",
   "execution_count": null,
   "id": "6625c57d-8a21-4403-8316-9fe753f37d80",
   "metadata": {},
   "outputs": [],
   "source": [
    "template_content = pd.DataFrame()"
   ]
  },
  {
   "cell_type": "code",
   "execution_count": null,
   "id": "2379bf08-5617-438f-96c5-b845d642145b",
   "metadata": {},
   "outputs": [],
   "source": [
    "template_content = new_terms.rename(columns={'FBbt_id':'ID'}) #type_name column keeps name\n",
    "template_content['Name'] = template_content['type_name'].apply(lambda x: f'adult {x} projection neuron')\n",
    "template_content['Definition'] = template_content['type_name'].apply(definition_writer)\n",
    "template_content['Xref_def'] = xref\n",
    "template_content['created_by'] = creator\n",
    "template_content['creation_date'] = date\n",
    "template_content['comment'] = comment\n",
    "template_content['function'] = template_content['type_name'].apply(lambda x: 'GO:0007605' if len(check_function(x))>0 else '')\n",
    "template_content['laterality'] = template_content['type_name'].apply(lambda x: check_laterality(x)[1])\n",
    "template_content['type'] = projection_neuron\n",
    "template_content['innervation'] = template_content['type_name'].apply(lambda x: '|'.join(list(get_regions(x))))\n",
    "template_content['adult_CNS'] = adult_CNS\n",
    "#template_content.head()"
   ]
  },
  {
   "cell_type": "code",
   "execution_count": null,
   "id": "5b3c9be0-0d5c-4830-b7ae-bfb11b36273a",
   "metadata": {},
   "outputs": [],
   "source": [
    "template = pd.concat([template_header, template_content])\n",
    "template"
   ]
  },
  {
   "cell_type": "code",
   "execution_count": null,
   "id": "3b13b157-57e4-452c-92b1-cc35dd2a74d1",
   "metadata": {},
   "outputs": [],
   "source": [
    "template.to_csv('template.tsv', sep='\\t', index=False)"
   ]
  },
  {
   "cell_type": "code",
   "execution_count": null,
   "id": "901cc045-0990-4e66-91d8-f394b7e6fbff",
   "metadata": {},
   "outputs": [],
   "source": []
  }
 ],
 "metadata": {
  "kernelspec": {
   "display_name": "Python 3 (ipykernel)",
   "language": "python",
   "name": "python3"
  },
  "language_info": {
   "codemirror_mode": {
    "name": "ipython",
    "version": 3
   },
   "file_extension": ".py",
   "mimetype": "text/x-python",
   "name": "python",
   "nbconvert_exporter": "python",
   "pygments_lexer": "ipython3",
   "version": "3.10.0"
  }
 },
 "nbformat": 4,
 "nbformat_minor": 5
}
