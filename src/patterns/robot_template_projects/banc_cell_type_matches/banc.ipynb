{
 "cells": [
  {
   "cell_type": "markdown",
   "id": "e154c41d-f98b-4c87-b5db-741eb12f7357",
   "metadata": {},
   "source": [
    "Strategy:\n",
    "1. change any 'auto:'s and NAs to empty strings\n",
    "1. drop duplicate rows from the typing columns\n",
    "1. identify rows where no types are repeated within their column unless the only repeats are where one column is '' (i.e. keep 1:1 matches)\n",
    "2. identify which of these are differently named across datasets\n",
    "4. map to FBbt using symbols\n",
    "5. make rows into len > 1 sets of FBbt IDs\n",
    "6. make a template to add bidirectional 'may be identical to' annotations referencing banc paper"
   ]
  },
  {
   "cell_type": "code",
   "execution_count": null,
   "id": "7f940290-d64e-41f8-b3c2-7ad99e14a941",
   "metadata": {},
   "outputs": [],
   "source": [
    "import pandas as pd\n",
    "import re"
   ]
  },
  {
   "cell_type": "code",
   "execution_count": null,
   "id": "55fbf98e-c66a-4177-9db9-c68e9ff3514b",
   "metadata": {},
   "outputs": [],
   "source": [
    "# files 4, 5, 6 have cross-ds typing\n",
    "\n",
    "info = pd.read_csv('supplements/supplemental_data_6.csv', dtype='str', na_filter=False)\n",
    "symbols = pd.read_csv('../../../ontology/neuron_symbols.tsv', sep='\\t', dtype='str', na_filter=False)\n",
    "symbol_dict = symbols.set_index('symbol')['FBbt_id'].to_dict()"
   ]
  },
  {
   "cell_type": "code",
   "execution_count": null,
   "id": "723c5dde-f458-4920-90f9-053a36eb47ff",
   "metadata": {},
   "outputs": [],
   "source": [
    "# 1. NAs and auto:s to empty string\n",
    "info = info.map(lambda x: re.sub('auto[:].*', '', x))\n",
    "info = info.map(lambda x: re.sub('NA', '', x))"
   ]
  },
  {
   "cell_type": "code",
   "execution_count": null,
   "id": "d43f264b-cd7f-45ec-bc99-ea45fcae56ff",
   "metadata": {},
   "outputs": [],
   "source": [
    "unique_type_combos = info[['cell_type', 'fafb_cell_type', 'manc_cell_type']].drop_duplicates()"
   ]
  },
  {
   "cell_type": "code",
   "execution_count": null,
   "id": "a024f43b-49c4-4960-8922-463f34ec7aa7",
   "metadata": {},
   "outputs": [],
   "source": [
    "# 3. check for repeats (keep only 1:1 matches)\n",
    "def unique_match_check(df, col):\n",
    "    \"\"\"Find values in `col` where other columns in `df` contain no more than one non-'' value\"\"\"\n",
    "    check_cols = df.columns.drop(col)\n",
    "    keep_types = []\n",
    "    for x in df[col].unique():\n",
    "        check = True\n",
    "        df_subset = df[df[col]==x]\n",
    "        for y in check_cols:\n",
    "            value_count = len(df_subset[df_subset[y]!=''][y].unique())\n",
    "            if value_count > 1:\n",
    "                check = False\n",
    "        if check:\n",
    "            keep_types.append(x)\n",
    "    return keep_types"
   ]
  },
  {
   "cell_type": "code",
   "execution_count": null,
   "id": "f00eb236-4c4c-4dfa-a1d1-398b6a2cc93b",
   "metadata": {},
   "outputs": [],
   "source": [
    "keep_cell_types = unique_match_check(unique_type_combos, 'cell_type')"
   ]
  },
  {
   "cell_type": "code",
   "execution_count": null,
   "id": "cc2181e3-d833-4c9f-8f02-7d65fabefe41",
   "metadata": {},
   "outputs": [],
   "source": [
    "keep_fafb_cell_types = unique_match_check(unique_type_combos, 'fafb_cell_type')"
   ]
  },
  {
   "cell_type": "code",
   "execution_count": null,
   "id": "4606e041-42f7-490a-86e2-1ce634aec7de",
   "metadata": {},
   "outputs": [],
   "source": [
    "keep_manc_cell_types = unique_match_check(unique_type_combos, 'manc_cell_type')"
   ]
  },
  {
   "cell_type": "code",
   "execution_count": null,
   "id": "0d51e8dd-facc-4955-b5ed-a5857168ba11",
   "metadata": {},
   "outputs": [],
   "source": [
    "unique_matches = unique_type_combos[unique_type_combos['cell_type'].isin(keep_cell_types) \n",
    "    & unique_type_combos['fafb_cell_type'].isin(keep_fafb_cell_types) \n",
    "    & unique_type_combos['manc_cell_type'].isin(keep_manc_cell_types)]"
   ]
  },
  {
   "cell_type": "code",
   "execution_count": null,
   "id": "bcb83ca7-d41f-4458-aa58-1e28206a72ec",
   "metadata": {},
   "outputs": [],
   "source": [
    "# 4. only keep rows where names are different\n",
    "mask = (\n",
    "    (unique_matches['cell_type'] == unique_matches['fafb_cell_type']) &\n",
    "    (unique_matches['fafb_cell_type'] == unique_matches['manc_cell_type'])\n",
    ")\n",
    "\n",
    "unique_matches = unique_matches[~mask].reset_index(drop=True)"
   ]
  },
  {
   "cell_type": "code",
   "execution_count": null,
   "id": "fda6f0a6-8744-405a-a2d1-dac63cee88d8",
   "metadata": {},
   "outputs": [],
   "source": [
    "# 5. map to symbols and drop any that don't map\n",
    "unique_matches_fbbt = unique_matches.replace(symbol_dict)"
   ]
  },
  {
   "cell_type": "code",
   "execution_count": null,
   "id": "885f0cbe-483c-488d-a77e-801bae8693de",
   "metadata": {},
   "outputs": [],
   "source": [
    "# 6. consolidate rows to sets, excluding any non-FBbt and drop len 1 sets\n",
    "def row_consolidator(values):\n",
    "    \"\"\"Takes a list of values and puts all FBbt IDs (not unmapped names) into a set.\"\"\"\n",
    "    value_set = set([v for v in values if v.startswith('FBbt')])\n",
    "    return value_set"
   ]
  },
  {
   "cell_type": "code",
   "execution_count": null,
   "id": "5298da45-9b5f-4354-ac69-ab1e61323109",
   "metadata": {},
   "outputs": [],
   "source": [
    "mapping_sets = unique_matches_fbbt.apply(lambda x: \n",
    "                        row_consolidator([x[col] for col in unique_matches_fbbt.columns]), axis=1)\n",
    "mapping_sets = mapping_sets.rename('id_sets')"
   ]
  },
  {
   "cell_type": "code",
   "execution_count": null,
   "id": "15fcd9b9-4410-418c-9861-8ceb3e013c71",
   "metadata": {},
   "outputs": [],
   "source": [
    "real_mapping_sets = mapping_sets[mapping_sets.apply(len)>1].reset_index(drop=True)"
   ]
  },
  {
   "cell_type": "code",
   "execution_count": null,
   "id": "853d6ca1-0435-4fde-9b51-cf03b25314ea",
   "metadata": {},
   "outputs": [],
   "source": [
    "template = pd.DataFrame({'ID':['ID'], 'may_be_identical_to':[\"AI IAO:0006011 SPLIT=|\"]})"
   ]
  },
  {
   "cell_type": "code",
   "execution_count": null,
   "id": "af9d8bf3-1337-48ab-ac2c-c627396bc50e",
   "metadata": {},
   "outputs": [],
   "source": [
    "# 7. make template\n",
    "def template_row_maker(mapping_set):\n",
    "    mapping_list = list(mapping_set)\n",
    "    rows = pd.DataFrame({'ID':mapping_list})\n",
    "    rows['may_be_identical_to'] = rows['ID'].apply(lambda x: '|'.join([y for y in mapping_list if y != x]))\n",
    "    return rows"
   ]
  },
  {
   "cell_type": "code",
   "execution_count": null,
   "id": "3bb0e4b6-219f-4824-816c-317fe5187e71",
   "metadata": {},
   "outputs": [],
   "source": [
    "for i in real_mapping_sets.index:\n",
    "    template_rows = template_row_maker(real_mapping_sets[i])\n",
    "    template = pd.concat([template, template_rows], ignore_index=True)"
   ]
  },
  {
   "cell_type": "markdown",
   "id": "f552620b-dbf5-4c63-a3bb-96455dcf555b",
   "metadata": {},
   "source": [
    "Save mapping from each file, then concatenate:"
   ]
  },
  {
   "cell_type": "code",
   "execution_count": null,
   "id": "7a104c87-7d39-47e7-b3f0-149bf0e21598",
   "metadata": {},
   "outputs": [],
   "source": [
    "sup_4_template = template"
   ]
  },
  {
   "cell_type": "code",
   "execution_count": null,
   "id": "be213ff0-ae77-4c2f-899f-8bbcf3d1b403",
   "metadata": {},
   "outputs": [],
   "source": [
    "sup_5_template = template"
   ]
  },
  {
   "cell_type": "code",
   "execution_count": null,
   "id": "049f9aec-0ec6-4cbb-a706-192aaf0962ec",
   "metadata": {},
   "outputs": [],
   "source": [
    "sup_6_template = template"
   ]
  },
  {
   "cell_type": "code",
   "execution_count": null,
   "id": "48bdc803-a833-4331-bf92-d069ceb76014",
   "metadata": {},
   "outputs": [],
   "source": [
    "complete_template = pd.concat([sup_4_template, sup_5_template, sup_6_template], ignore_index=True)\n",
    "complete_template = complete_template.drop_duplicates().reset_index(drop=True)"
   ]
  },
  {
   "cell_type": "code",
   "execution_count": null,
   "id": "31d915a8-62c2-4473-993b-82a20bee14a5",
   "metadata": {},
   "outputs": [],
   "source": [
    "complete_template['ref'] = 'doi:10.1101/2025.07.31.667571'\n",
    "complete_template.loc[0,'ref'] = '>A oboInOwl:hasDbXref'"
   ]
  },
  {
   "cell_type": "code",
   "execution_count": null,
   "id": "7abac0ce-cf31-437e-bf65-aaaa207fe3f2",
   "metadata": {},
   "outputs": [],
   "source": [
    "complete_template.to_csv('template.tsv', sep='\\t', index=False)"
   ]
  },
  {
   "cell_type": "code",
   "execution_count": null,
   "id": "937c9608-46d8-4499-8af7-1e2926218f21",
   "metadata": {},
   "outputs": [],
   "source": []
  }
 ],
 "metadata": {
  "kernelspec": {
   "display_name": "Python 3 (ipykernel)",
   "language": "python",
   "name": "python3"
  },
  "language_info": {
   "codemirror_mode": {
    "name": "ipython",
    "version": 3
   },
   "file_extension": ".py",
   "mimetype": "text/x-python",
   "name": "python",
   "nbconvert_exporter": "python",
   "pygments_lexer": "ipython3",
   "version": "3.10.0"
  }
 },
 "nbformat": 4,
 "nbformat_minor": 5
}
