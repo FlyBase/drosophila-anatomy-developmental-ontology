{
 "cells": [
  {
   "cell_type": "code",
   "execution_count": null,
   "metadata": {},
   "outputs": [],
   "source": [
    "import pandas as pd\n",
    "import csv\n",
    "import re\n",
    "from num2words import num2words\n",
    "from collections import OrderedDict"
   ]
  },
  {
   "cell_type": "code",
   "execution_count": null,
   "metadata": {},
   "outputs": [],
   "source": [
    "new_types = pd.read_csv('./Feng.tsv', sep='\\t')"
   ]
  },
  {
   "cell_type": "code",
   "execution_count": null,
   "metadata": {},
   "outputs": [],
   "source": []
  },
  {
   "cell_type": "code",
   "execution_count": null,
   "metadata": {},
   "outputs": [],
   "source": [
    "# Make a dictionary with key - column header & value = template specification (first row of table).\n",
    "\n",
    "template_seed = OrderedDict([ ('ID' , 'ID'), ('CLASS_TYPE' , 'CLASS_TYPE'),\\\n",
    "                             ('RDF_Type' , 'TYPE' )])\n",
    "\n",
    "#label, definition, short synonym:\n",
    "template_seed.update([(\"Name\" , \"A rdfs:label\"), (\"definition\" , \"A IAO:0000115\"),\\\n",
    "                      (\"Xref_def\" , \">A oboInOwl:hasDbXref\"),\\\n",
    "                      (\"created_by\" , \"A oboInOwl:created_by\"),\\\n",
    "                      (\"creation_date\", \"A oboInOwl:creation_date\")])\n",
    "\n",
    "#short name synonym\n",
    "template_seed.update([(\"MFSynonym\" , \"A oboInOwl:hasExactSynonym\"),\\\n",
    "                      (\"MFsyn_ref\" , \">A oboInOwl:hasDbXref\"),\\\n",
    "                      (\"MTSynonym\" , \"A oboInOwl:hasNarrowSynonym SPLIT=|\"),\\\n",
    "                      (\"MTsyn_ref\" , \">A oboInOwl:hasDbXref\"),\\\n",
    "                      (\"comment\" , \"A rdfs:comment\")])\n",
    "\n",
    "# Columns for relationships:\n",
    "template_seed.update([(\"soma\" , \"SC 'has soma location' some %\"),\\\n",
    "                      (\"adult_neuron\" , \"SC %\"),\\\n",
    "                      (\"ascending\", \"SC %\")])\n",
    "\n",
    "# Create dataFrame for template\n",
    "template = pd.DataFrame.from_records([template_seed])\n",
    "\n",
    "template"
   ]
  },
  {
   "cell_type": "code",
   "execution_count": null,
   "metadata": {},
   "outputs": [],
   "source": [
    "count = 0 # first row\n",
    "id_mapping = {} # dictionary of ids for types\n",
    "\n",
    "for i in new_types.index:\n",
    "\n",
    "    row_od = OrderedDict([]) #new template row as an empty ordered dictionary\n",
    "    for c in template.columns: #make columns and blank data for new template row\n",
    "        row_od.update([(c , \"\")])\n",
    "    \n",
    "    #these are the same in each row\n",
    "    row_od[\"CLASS_TYPE\"] = \"subclass\"\n",
    "    row_od[\"RDF_Type\"] = \"owl:Class\"\n",
    "    row_od[\"Xref_def\"] = \"FlyBase:FBrf0247391\"\n",
    "    row_od[\"MFsyn_ref\"] = \"FlyBase:FBrf0247391\"\n",
    "    row_od[\"MTsyn_ref\"] = \"FlyBase:FBrf0247391\"\n",
    "    row_od[\"created_by\"] = \"http://orcid.org/0000-0002-1373-1705\"\n",
    "    row_od[\"creation_date\"] = \"2021-03-17T12:00:00Z\"\n",
    "    row_od[\"definition\"] = '.'\n",
    "    row_od[\"comment\"] = \"Nomenclature scheme will be explained in a later publication (Feng et al., 2020).\"\n",
    "\n",
    "    #easy to generate data\n",
    "    row_od[\"ID\"] = id_advance(start_id, count)\n",
    "    row_od[\"MFSynonym\"] = \"adult MF%s neuron\" % new_types['MF'][i].zfill(2)\n",
    "    row_od[\"MTSynonym\"] = \"adult %s neuron\" % new_types['MF'][i]\n",
    "    row_od[\"Name\"] = \"adult %s neuron of ventral nerve cord\" % new_types['Cell Type'][i]\n",
    "    if new_types['ascending'][i] == 1:\n",
    "        row_od[\"ascending\"] = \"FBbt:00048301\" # 'adult ascending neuron'\n",
    "    else:\n",
    "        row_od[\"adult_neuron\"] = \"FBbt:00047095\"\n",
    "    \n",
    "    row_od[\"soma\"] = \n",
    "    \n",
    "    #make new row into a DataFrame and add it to template\n",
    "    new_row = pd.DataFrame.from_records([row_od])\n",
    "    template = pd.concat([template, new_row], ignore_index=True, sort=False)\n",
    "\n",
    "    count +=1\n",
    "    \n",
    "    id_mapping[new_types[i]] = row_od[\"ID\"] # add to dictionary\n",
    "    \n",
    "#template"
   ]
  }
 ],
 "metadata": {
  "kernelspec": {
   "display_name": "Python 3",
   "language": "python",
   "name": "python3"
  },
  "language_info": {
   "codemirror_mode": {
    "name": "ipython",
    "version": 3
   },
   "file_extension": ".py",
   "mimetype": "text/x-python",
   "name": "python",
   "nbconvert_exporter": "python",
   "pygments_lexer": "ipython3",
   "version": "3.8.6"
  }
 },
 "nbformat": 4,
 "nbformat_minor": 4
}
