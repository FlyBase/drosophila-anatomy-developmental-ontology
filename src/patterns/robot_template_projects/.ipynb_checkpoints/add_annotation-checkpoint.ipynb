{
 "cells": [
  {
   "cell_type": "code",
   "execution_count": 39,
   "metadata": {},
   "outputs": [],
   "source": [
    "#this is for adding extra (simple) annotations to existing terms\n",
    "#it won't work for just annotations on annotations (eg. adding a ref to an existing defeinition)"
   ]
  },
  {
   "cell_type": "code",
   "execution_count": 40,
   "metadata": {},
   "outputs": [],
   "source": [
    "import pandas as pd\n",
    "import csv\n",
    "from collections import OrderedDict\n",
    "\n",
    "# need table with id in column \"id\" and annotation to be added\n",
    "raw_data_table = pd.read_csv('./term_list.csv', sep=',')\n",
    "# raw_data_table"
   ]
  },
  {
   "cell_type": "code",
   "execution_count": 41,
   "metadata": {},
   "outputs": [
    {
     "data": {
      "text/html": [
       "<div>\n",
       "<style scoped>\n",
       "    .dataframe tbody tr th:only-of-type {\n",
       "        vertical-align: middle;\n",
       "    }\n",
       "\n",
       "    .dataframe tbody tr th {\n",
       "        vertical-align: top;\n",
       "    }\n",
       "\n",
       "    .dataframe thead th {\n",
       "        text-align: right;\n",
       "    }\n",
       "</style>\n",
       "<table border=\"1\" class=\"dataframe\">\n",
       "  <thead>\n",
       "    <tr style=\"text-align: right;\">\n",
       "      <th></th>\n",
       "      <th>ID</th>\n",
       "      <th>CLASS_TYPE</th>\n",
       "      <th>RDF_Type</th>\n",
       "      <th>Definition</th>\n",
       "      <th>Xref_def</th>\n",
       "    </tr>\n",
       "  </thead>\n",
       "  <tbody>\n",
       "    <tr>\n",
       "      <th>0</th>\n",
       "      <td>ID</td>\n",
       "      <td>CLASS_TYPE</td>\n",
       "      <td>TYPE</td>\n",
       "      <td>A IAO:0000115</td>\n",
       "      <td>&gt;A oboInOwl:hasDbXref</td>\n",
       "    </tr>\n",
       "  </tbody>\n",
       "</table>\n",
       "</div>"
      ],
      "text/plain": [
       "   ID  CLASS_TYPE RDF_Type     Definition               Xref_def\n",
       "0  ID  CLASS_TYPE     TYPE  A IAO:0000115  >A oboInOwl:hasDbXref"
      ]
     },
     "execution_count": 41,
     "metadata": {},
     "output_type": "execute_result"
    }
   ],
   "source": [
    "# Make a dictionary with key - column header & value = template specification (first row of table).\n",
    "# These things are always required by robot\n",
    "template_seed = OrderedDict([ ('ID' , 'ID'), ('CLASS_TYPE' , 'CLASS_TYPE'),\\\n",
    "                             ('RDF_Type' , 'TYPE' )])\n",
    "\n",
    "########## EDIT THIS for annotation to be added:\n",
    "template_seed.update([(\"Definition\" , \"A IAO:0000115\"), (\"Xref_def\" , \">A oboInOwl:hasDbXref\")])\n",
    "\n",
    "# Create dataFrame for template\n",
    "# from_records takes a list of dicts - one for each row.  We only have one row.\n",
    "template = pd.DataFrame.from_records([template_seed])\n",
    "\n",
    "template"
   ]
  },
  {
   "cell_type": "code",
   "execution_count": 42,
   "metadata": {},
   "outputs": [],
   "source": [
    "count = 0 #0 = first row\n",
    "\n",
    "for i in raw_data_table.index:\n",
    "\n",
    "    row_od = OrderedDict([]) #new template row as an empty ordered dictionary\n",
    "    for c in template.columns: #make columns and blank data for new template row\n",
    "        row_od.update([(c , \"\")])\n",
    "    \n",
    "    #add row info\n",
    "    row_od[\"CLASS_TYPE\"] = \"subclass\"\n",
    "    row_od[\"RDF_Type\"] = \"owl:Class\"\n",
    "    row_od[\"ID\"] = raw_data_table.id[count]\n",
    "    \n",
    "    ####### EDIT THIS for annotation to be added\n",
    "    row_od[\"Definition\"] = raw_data_table.definition[count]\n",
    "    row_od[\"Xref_def\"] = \"FlyBase:FBrf0236359\"\n",
    "            \n",
    "    #make new row into a DataFrame and add it to template\n",
    "    new_row = pd.DataFrame.from_records([row_od])\n",
    "    template = pd.concat([template, new_row], ignore_index=True, sort=False)\n",
    "\n",
    "    count +=1\n",
    "    \n",
    "#template"
   ]
  },
  {
   "cell_type": "code",
   "execution_count": 37,
   "metadata": {},
   "outputs": [],
   "source": [
    "template.to_csv(\"./template.tsv\", sep = \"\\t\", header=True, index=False)"
   ]
  },
  {
   "cell_type": "code",
   "execution_count": null,
   "metadata": {},
   "outputs": [],
   "source": []
  }
 ],
 "metadata": {
  "kernelspec": {
   "display_name": "Python 3",
   "language": "python",
   "name": "python3"
  },
  "language_info": {
   "codemirror_mode": {
    "name": "ipython",
    "version": 3
   },
   "file_extension": ".py",
   "mimetype": "text/x-python",
   "name": "python",
   "nbconvert_exporter": "python",
   "pygments_lexer": "ipython3",
   "version": "3.6.5"
  }
 },
 "nbformat": 4,
 "nbformat_minor": 2
}
