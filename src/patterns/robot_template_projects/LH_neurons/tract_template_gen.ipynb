{
 "cells": [
  {
   "cell_type": "code",
   "execution_count": null,
   "metadata": {},
   "outputs": [],
   "source": [
    "import pandas as pd\n",
    "import csv\n",
    "import re\n",
    "from num2words import num2words\n",
    "from collections import OrderedDict\n",
    "\n",
    "# Turn CSV into a pandas DataFrame\n",
    "\n",
    "raw_data_table = pd.read_csv('./spreadsheets/group_detail.csv', sep=',')\n",
    "\n",
    "#raw_data_table[:10]"
   ]
  },
  {
   "cell_type": "code",
   "execution_count": null,
   "metadata": {},
   "outputs": [],
   "source": [
    "# Dictionary of FBbt IDs and short names (not labels) for new and existing terms to be used\n",
    "ID_table = pd.read_csv('./spreadsheets/ID_name.csv', sep=',')\n",
    "lookup = dict(zip(ID_table.Keys,ID_table.Values))\n",
    "#lookup"
   ]
  },
  {
   "cell_type": "code",
   "execution_count": null,
   "metadata": {},
   "outputs": [],
   "source": [
    "position_dict = {\"AV\" : \"anterior ventral\", \\\n",
    "                \"PV\" : \"posterior ventral\", \\\n",
    "                \"AD\" : \"anterior dorsal\", \\\n",
    "                \"PD\" : \"posterior dorsal\"}"
   ]
  },
  {
   "cell_type": "code",
   "execution_count": null,
   "metadata": {},
   "outputs": [],
   "source": [
    "# Make a dictionary with key - column header & value = template specification (first row of table).\n",
    "\n",
    "template_seed = OrderedDict([ ('ID' , 'ID'), ('CLASS_TYPE' , 'CLASS_TYPE'),\\\n",
    "                             ('RDF_Type' , 'TYPE' )])\n",
    "\n",
    "#label, definition, short synonym:\n",
    "template_seed.update([(\"Name\" , \"A rdfs:label\"), (\"Definition\" , \"A IAO:0000115\"),\\\n",
    "                      (\"Xref_def\" , \">A oboInOwl:hasDbXref\"),\\\n",
    "                      (\"created_by\" , \"A dc:contributor\"),\\\n",
    "                      (\"creation_date\", \"A dc:date\")])\n",
    "\n",
    "#short name synonym\n",
    "template_seed.update([(\"Synonym\" , \"A oboInOwl:hasExactSynonym\"),\\\n",
    "                      (\"syn_ref\" , \">A oboInOwl:hasDbXref\")])\\\n",
    "\n",
    "# Columns for tract superclass:\n",
    "template_seed.update([(\"PNT\" , \"SC %\"),\\\n",
    "                      (\"LH\", \"SC 'innervates' some %\"),\\\n",
    "                      (\"Brain\", \"SC 'part of' some %\")])\n",
    "\n",
    "# Create dataFrame for template\n",
    "template = pd.DataFrame.from_records([template_seed])\n",
    "\n",
    "template"
   ]
  },
  {
   "cell_type": "code",
   "execution_count": null,
   "metadata": {},
   "outputs": [],
   "source": [
    "def groupname_splitter(shortname):\n",
    "    \"\"\"\n",
    "    Splits group names - two letters / one or more digits.\n",
    "    \"\"\"\n",
    "    short = str(shortname)\n",
    "    pattern = re.compile(\"[A-Z][A-Z][0-9]+\")\n",
    "    if pattern.fullmatch(short):\n",
    "        return [short[0:2], short[2:]]\n",
    "    else:\n",
    "        raise ValueError(\"Invalid group name - must be 2 letters, followed by numbers.\")\n",
    "    "
   ]
  },
  {
   "cell_type": "code",
   "execution_count": null,
   "metadata": {},
   "outputs": [],
   "source": [
    "def definition_generator(shortname, dictionary):\n",
    "    location = groupname_splitter(shortname)\n",
    "    brain_area = dictionary[location[0]]\n",
    "\n",
    "    return (\"Primary neurite tract of the %s (%s) adult brain in the %s clockwise position \"\n",
    "            \"(from %s perspective), from ventrolateral to dorsal to ventromedial, of %s \"\n",
    "            \"tracts that enter the lateral horn (Frechter et al., 2019).\"\n",
    "            %(brain_area, location[0], num2words(int(location[1]), to='ordinal'),\\\n",
    "              brain_area.split()[0], location[0]))\n",
    "    "
   ]
  },
  {
   "cell_type": "code",
   "execution_count": null,
   "metadata": {},
   "outputs": [],
   "source": [
    "def label_maker(shortname, dictionary):\n",
    "    location = groupname_splitter(shortname)\n",
    "    return \"adult %s primary neurite tract %s\"%(dictionary[location[0]],location[1])"
   ]
  },
  {
   "cell_type": "code",
   "execution_count": null,
   "metadata": {},
   "outputs": [],
   "source": [
    "count = 0 # first row\n",
    "\n",
    "for i in raw_data_table.index:\n",
    "\n",
    "    r = raw_data_table.short[count]\n",
    "    row_od = OrderedDict([]) #new template row as an empty ordered dictionary\n",
    "    for c in template.columns: #make columns and blank data for new template row\n",
    "        row_od.update([(c , \"\")])\n",
    "    \n",
    "    #these are the same in each row\n",
    "    row_od[\"CLASS_TYPE\"] = \"subclass\"\n",
    "    row_od[\"RDF_Type\"] = \"owl:Class\"\n",
    "    row_od[\"Xref_def\"] = \"FlyBase:FBrf0242628\"\n",
    "    row_od[\"syn_ref\"] = \"FlyBase:FBrf0242628\"\n",
    "    row_od[\"created_by\"] = \"http://orcid.org/0000-0002-1373-1705\"\n",
    "    row_od[\"creation_date\"] = \"2020-04-29T12:00:00Z\"\n",
    "    row_od[\"PNT\"] = lookup[\"PNT\"]\n",
    "    row_od[\"LH\"] = lookup[\"adLH\"]\n",
    "    row_od[\"Brain\"] = lookup[\"adBrain\"]\n",
    "\n",
    "    #easy to generate data\n",
    "    row_od[\"ID\"] = lookup[r]\n",
    "    row_od[\"Synonym\"] = \"adult \" + r + \" primary neurite tract\"\n",
    "    row_od[\"Name\"] = label_maker(r,position_dict)\n",
    "\n",
    "    \n",
    "    #STUFF FOR DEFINITION\n",
    "    \n",
    "    definition = definition_generator(r,position_dict)\n",
    "    if raw_data_table.main_type[i] == \"LHLN\":\n",
    "        definition += (\" Lateral horn neurons that enter the neuropil via this \"\n",
    "        \"tract are predominantly local neurons (Frechter et al., 2019).\")\n",
    "    elif raw_data_table.main_type[i] == \"LHON\":\n",
    "        definition += (\" Lateral horn neurons that enter the neuropil via this \"\n",
    "        \"tract are predominantly output neurons (Frechter et al., 2019).\")\n",
    "    row_od[\"Definition\"] = definition\n",
    "    \n",
    "            \n",
    "    \n",
    "    #make new row into a DataFrame and add it to template\n",
    "    new_row = pd.DataFrame.from_records([row_od])\n",
    "    template = pd.concat([template, new_row], ignore_index=True, sort=False)\n",
    "\n",
    "    count +=1\n",
    "    \n",
    "template"
   ]
  },
  {
   "cell_type": "code",
   "execution_count": null,
   "metadata": {},
   "outputs": [],
   "source": [
    "template.to_csv(\"./template.tsv\", sep = \"\\t\", header=True, index=False)"
   ]
  },
  {
   "cell_type": "code",
   "execution_count": null,
   "metadata": {},
   "outputs": [],
   "source": []
  }
 ],
 "metadata": {
  "kernelspec": {
   "display_name": "Python 3 (ipykernel)",
   "language": "python",
   "name": "python3"
  },
  "language_info": {
   "codemirror_mode": {
    "name": "ipython",
    "version": 3
   },
   "file_extension": ".py",
   "mimetype": "text/x-python",
   "name": "python",
   "nbconvert_exporter": "python",
   "pygments_lexer": "ipython3",
   "version": "3.8.9"
  }
 },
 "nbformat": 4,
 "nbformat_minor": 2
}
