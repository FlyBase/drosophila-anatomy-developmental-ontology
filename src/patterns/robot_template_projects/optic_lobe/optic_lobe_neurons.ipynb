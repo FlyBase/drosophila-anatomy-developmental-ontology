{
 "cells": [
  {
   "cell_type": "code",
   "execution_count": null,
   "id": "617b5d3d-8443-4633-9be8-c5f4e08701ba",
   "metadata": {},
   "outputs": [],
   "source": [
    "import pandas as pd\n",
    "import re\n",
    "from collections import OrderedDict\n",
    "from itertools import chain\n",
    "import numpy as np\n",
    "import neuprint\n",
    "from oaklib import get_adapter"
   ]
  },
  {
   "cell_type": "code",
   "execution_count": null,
   "id": "827928d2-257d-4f9c-b2d4-b7c03f49bf1d",
   "metadata": {},
   "outputs": [],
   "source": [
    "# for connecting to neuPrint (add token)\n",
    "token = \"\"\n",
    "np_client = neuprint.Client('https://neuprint.janelia.org', dataset='optic-lobe:v1.1', token=token)"
   ]
  },
  {
   "cell_type": "code",
   "execution_count": null,
   "id": "1c2b210a-bc30-4976-87d6-5fc5538e724b",
   "metadata": {},
   "outputs": [],
   "source": [
    "fbbt = get_adapter(\"../../../ontology/tmp/fbbt-merged.db\")"
   ]
  },
  {
   "cell_type": "code",
   "execution_count": null,
   "id": "65e30a84-3452-40ef-98e8-d5d61f959f04",
   "metadata": {},
   "outputs": [],
   "source": [
    "# Load mapping\n",
    "cell_types = pd.read_csv(\n",
    "    \"new_types.tsv\",\n",
    "    sep=\"\\t\",\n",
    "    low_memory=False,\n",
    "    index_col='OL_type'\n",
    "    )\n",
    "\n",
    "# minimum no. synapses to add region connectivity\n",
    "connectivity_threshold = 10\n",
    "\n",
    "# parent_types\n",
    "parent_types = pd.read_csv(\n",
    "    \"broad_type_map.tsv\",\n",
    "    sep=\"\\t\",\n",
    "    low_memory=False,\n",
    "    index_col='broad_type'\n",
    "    )\n",
    "\n",
    "# hemilineage (from fw template folder)\n",
    "hemilineage_map = pd.read_csv(\n",
    "    \"../flywire_neurons/lineage_map.tsv\",\n",
    "    sep=\"\\t\",\n",
    "    low_memory=False\n",
    "    )\n",
    "\n",
    "# Load rois\n",
    "OL_rois = pd.read_csv('OL_ROI_mapping.tsv', sep='\\t')\n",
    "# dictionary of raw ROI names to FBbt\n",
    "raw_ROI_dict = dict(zip(OL_rois['ROI'],OL_rois['FBbt_id']))\n",
    "OL_rois_FBbt = OL_rois[['FBbt_id', 'FBbt_name']].drop_duplicates()\n",
    "ROI_name_dict = dict(zip(OL_rois_FBbt['FBbt_id'],OL_rois_FBbt['FBbt_name']))"
   ]
  },
  {
   "cell_type": "code",
   "execution_count": null,
   "id": "732f7f38-f03b-49d0-86b4-1e67169d4a1c",
   "metadata": {},
   "outputs": [],
   "source": [
    "# dict of term descendants (SLOW)\n",
    "FBbt_descendants = {i:[x[0] for x in fbbt.relationships(objects=[i], predicates=['BFO:0000050'], include_entailed=True)] \\\n",
    "                    for i in ROI_name_dict.keys()}\n",
    "#FBbt_descendants['FBbt:00003748']"
   ]
  },
  {
   "cell_type": "code",
   "execution_count": null,
   "id": "adbb9bbe-3c6f-4380-b8dd-78dface6a2f3",
   "metadata": {},
   "outputs": [],
   "source": [
    "#nts\n",
    "nt_cvs = {'acetylcholine':'GO:0014055',\n",
    "          'GABA':'GO:0061534',\n",
    "          'glutamate':'GO:0061535',}"
   ]
  },
  {
   "cell_type": "code",
   "execution_count": null,
   "id": "f0f7aaaf-51ad-4182-bdaf-3c20edc4bdac",
   "metadata": {},
   "outputs": [],
   "source": [
    "# get type info from neuprint\n",
    "query = (\"MATCH (n:Neuron) WHERE n.type IN %s \"\n",
    "         \"RETURN n.type AS type, n.bodyId AS bodyID, n.instance AS instance, \"\n",
    "         \"apoc.convert.fromJsonMap(n.roiInfo) AS ROIs\" \n",
    "         % cell_types.index.tolist())\n",
    "\n",
    "raw_results = np_client.fetch_custom(query)\n"
   ]
  },
  {
   "cell_type": "code",
   "execution_count": null,
   "id": "87e96a78-98a6-4554-ad8b-2b9c1a99e130",
   "metadata": {},
   "outputs": [],
   "source": [
    "# get hemilineage info from neuprint (not clear where this came from - not in Nern paper)\n",
    "query = (\"MATCH (n:Neuron) WHERE n.type IN %s AND EXISTS(n.hemilineage)\"\n",
    "         \"RETURN  DISTINCT n.type AS OL_type, n.hemilineage AS hemilineage\" \n",
    "         % cell_types.index.tolist())\n",
    "\n",
    "hemilineages = np_client.fetch_custom(query)\n",
    "#hemilineages.head()"
   ]
  },
  {
   "cell_type": "code",
   "execution_count": null,
   "id": "6318c2ab-8809-4b4c-9752-63e912cc93d4",
   "metadata": {},
   "outputs": [],
   "source": [
    "#map hemilineages to FBbt - check for any not in flywire mapping file\n",
    "mapped_hemilineages = hemilineages.merge(hemilineage_map, how='left', left_on='hemilineage', right_on='ito_lee_hemilineage')\n",
    "unmapped_hemilineages = [i for i in hemilineages['hemilineage'].to_list() if not i in mapped_hemilineages['hemilineage'].to_list()]\n",
    "mapped_hemilineages = mapped_hemilineages[['OL_type', 'NB_id', 'hemilineage']].set_index('OL_type').rename(columns={'NB_id':'neuroblast'})\n",
    "mapped_hemilineages = mapped_hemilineages[mapped_hemilineages['hemilineage']!='putative_primary']\n",
    "unmapped_hemilineages"
   ]
  },
  {
   "cell_type": "code",
   "execution_count": null,
   "id": "c4d8154c-406a-4bf5-b7d7-cba536f0487e",
   "metadata": {},
   "outputs": [],
   "source": [
    "# add to cell type info\n",
    "cell_types = cell_types.merge(mapped_hemilineages['neuroblast'], how='left', left_index=True, right_index=True)\n",
    "#cell_types.head()"
   ]
  },
  {
   "cell_type": "code",
   "execution_count": null,
   "id": "832431a8-4f38-4b99-b399-9dc702af0f98",
   "metadata": {},
   "outputs": [],
   "source": [
    "# preserve to not have to redo query\n",
    "np_results = raw_results"
   ]
  },
  {
   "cell_type": "code",
   "execution_count": null,
   "id": "7686c4ef-2a24-4b62-84f6-979fb639b073",
   "metadata": {},
   "outputs": [],
   "source": [
    "# get sides\n",
    "def find_side(label):\n",
    "    R_pattern = re.compile('[_(]R[_)]?')\n",
    "    L_pattern = re.compile('[_(]L[_)]?')\n",
    "    if re.search(R_pattern, label):\n",
    "        side = 'right'\n",
    "    elif re.search(L_pattern, label):\n",
    "        side = 'left'\n",
    "    else:\n",
    "        side = 'no_side'\n",
    "    return side\n"
   ]
  },
  {
   "cell_type": "code",
   "execution_count": null,
   "id": "a715ed64-c1b9-4262-a5f1-ec5cb8575096",
   "metadata": {},
   "outputs": [],
   "source": [
    "np_results['cell_side'] = np_results['instance'].apply(find_side)\n",
    "np_results = np_results.drop('instance', axis=1)\n",
    "#np_results.head()"
   ]
  },
  {
   "cell_type": "code",
   "execution_count": null,
   "id": "0a0d27e7-6911-40fa-b19f-88e4d6dd7068",
   "metadata": {},
   "outputs": [],
   "source": [
    "# set multiindex\n",
    "region_data = np_results.set_index(['type', 'bodyID', 'cell_side'])\n",
    "#print(region_data.head())"
   ]
  },
  {
   "cell_type": "code",
   "execution_count": null,
   "id": "d6bde96c-cf2b-4bf4-bc4d-def96d1afeef",
   "metadata": {},
   "outputs": [],
   "source": [
    "# stack ROIs into index\n",
    "connecivity_by_ROI = region_data.ROIs.apply(pd.Series)\n",
    "connecivity_by_ROI = connecivity_by_ROI.stack(future_stack=True)\n",
    "connecivity_by_ROI.index = connecivity_by_ROI.index.rename(['type', 'bodyID','cell_side','ROI_np'])\n",
    "\n",
    "# find ROIs that do/don't correspond to OL columns\n",
    "all_rois = connecivity_by_ROI.index.get_level_values('ROI_np').drop_duplicates().to_list()\n",
    "column_ROIs = [x for x in all_rois if '_col_' in x]\n",
    "non_column_ROIs = [x for x in all_rois if not '_col_' in x]\n",
    "# check that non_column rois are all in mapping\n",
    "missing_rois = [x for x in non_column_ROIs if not x in OL_rois['ROI'].to_list()]\n",
    "missing_rois"
   ]
  },
  {
   "cell_type": "code",
   "execution_count": null,
   "id": "2268d957-a2de-4e6a-85b7-7c953e203f8c",
   "metadata": {},
   "outputs": [],
   "source": [
    "# remove any OL column ROIs from data\n",
    "connecivity_by_ROI_1 = connecivity_by_ROI.drop(column_ROIs, level='ROI_np')\n",
    "#print(connecivity_by_ROI_1.head())"
   ]
  },
  {
   "cell_type": "code",
   "execution_count": null,
   "id": "59ba55e0-e0f5-4f12-874f-6cf105cc0001",
   "metadata": {},
   "outputs": [],
   "source": [
    "# split out connectivity type (pre, post etc) into columns (SLOW)\n",
    "connectivity_table_1 = connecivity_by_ROI_1.apply(pd.Series)\n",
    "#print(connectivity_table_1.head())"
   ]
  },
  {
   "cell_type": "code",
   "execution_count": null,
   "id": "3ea84d22-2a15-4da6-a4db-5fa6e7575f10",
   "metadata": {},
   "outputs": [],
   "source": [
    "# map neuprint ROIs to FBbt and tidy up\n",
    "connectivity_table = connectivity_table_1.reset_index(level='ROI_np', drop=False)\n",
    "connectivity_table['ROI'] = connectivity_table['ROI_np'].map(raw_ROI_dict)\n",
    "connectivity_table['np_side'] = connectivity_table['ROI_np'].apply(find_side)\n",
    "connectivity_table = connectivity_table.drop(labels = ['downstream', 'upstream', 'synweight', 0, 'ROI_np'], axis=1)\n",
    "connectivity_table = connectivity_table.set_index('ROI', append=True)\n",
    "connectivity_table = connectivity_table.fillna(0)\n",
    "#connectivity_table.head()"
   ]
  },
  {
   "cell_type": "code",
   "execution_count": null,
   "id": "6daece74-4411-4989-9b3f-8bc38ea56131",
   "metadata": {},
   "outputs": [],
   "source": [
    "# determine laterality\n",
    "def laterality(colA,colB):\n",
    "    if 'no_side' not in [colA,colB]:\n",
    "        if colA==colB:\n",
    "            laterality = 'ipsilateral'\n",
    "        else:\n",
    "            laterality = 'contralateral'\n",
    "    else:\n",
    "        laterality = 'no_laterality'\n",
    "    return laterality\n"
   ]
  },
  {
   "cell_type": "code",
   "execution_count": null,
   "id": "bd92a271-a3e5-49b6-95c7-ccfe24f0fc92",
   "metadata": {},
   "outputs": [],
   "source": [
    "connectivity_laterality = connectivity_table.reset_index(level='cell_side')\n",
    "connectivity_laterality['laterality'] = connectivity_laterality.apply(lambda x: laterality(x.cell_side, x.np_side), axis=1)\n",
    "connectivity_laterality = connectivity_laterality.drop(labels = ['cell_side', 'np_side'], axis=1)\n",
    "#connectivity_laterality.head()"
   ]
  },
  {
   "cell_type": "code",
   "execution_count": null,
   "id": "22dcc723-9603-4a6f-bc19-5d9d9895eeb9",
   "metadata": {},
   "outputs": [],
   "source": [
    "# get max connectivity per region per bodyID (groups duplicate regions)\n",
    "body_connectivity_table = connectivity_laterality.groupby(['type', 'bodyID','laterality','ROI']).agg({'post':'max', 'pre':'max'})\n",
    "\n",
    "# get min connectivity per region per type (groups multiple bodies per type)\n",
    "type_connectivity_table = body_connectivity_table.groupby(['type', 'laterality', 'ROI']).agg({'post':'min', 'pre':'min'})\n",
    "\n",
    "# drop rows where minimum for pre and post are both 0\n",
    "type_connectivity_table = type_connectivity_table.drop(type_connectivity_table[type_connectivity_table['post'].eq(0) & type_connectivity_table['pre'].eq(0)].index)\n"
   ]
  },
  {
   "cell_type": "code",
   "execution_count": null,
   "id": "93eda18b-3306-4035-8644-46da3f5309dc",
   "metadata": {},
   "outputs": [],
   "source": [
    "# drop redundant FBbt terms\n",
    "def drop_redundant_terms(term_list):\n",
    "    non_redundant_terms = []\n",
    "    for i in term_list:\n",
    "        term_set = set(term_list) - {i}\n",
    "        if len(term_set.intersection(set(FBbt_descendants[i]))) == 0:\n",
    "            non_redundant_terms.append(i)\n",
    "    return non_redundant_terms\n",
    "#drop_redundant_terms(['FBbt:00003701', 'FBbt:00003748'])"
   ]
  },
  {
   "cell_type": "code",
   "execution_count": null,
   "id": "5a37dcf0-0c86-4bba-8bf1-0e6d5deca66a",
   "metadata": {},
   "outputs": [],
   "source": [
    "# split to input and output, threshold, and drop redundant\n",
    "\n",
    "connectivity_inputs = type_connectivity_table.loc[type_connectivity_table.loc[:,'post']>connectivity_threshold, 'post']\n",
    "connectivity_inputs = connectivity_inputs.reset_index('ROI').drop(columns=['post'], axis=1)\n",
    "connectivity_inputs_lat = connectivity_inputs.groupby(['type', 'laterality'])['ROI'].apply(list)\n",
    "connectivity_inputs_lat = connectivity_inputs_lat.apply(drop_redundant_terms)\n",
    "connectivity_inputs_nolat = connectivity_inputs.groupby('type')['ROI'].apply(list)\n",
    "connectivity_inputs_nolat = connectivity_inputs_nolat.apply(drop_redundant_terms)\n",
    "\n",
    "connectivity_outputs = type_connectivity_table.loc[type_connectivity_table.loc[:,'pre']>connectivity_threshold, 'pre']\n",
    "connectivity_outputs = connectivity_outputs.reset_index('ROI').drop(columns=['pre'], axis=1)\n",
    "connectivity_outputs_lat = connectivity_outputs.groupby(['type', 'laterality'])['ROI'].apply(list)\n",
    "connectivity_outputs_lat = connectivity_outputs_lat.apply(drop_redundant_terms)\n",
    "connectivity_outputs_nolat = connectivity_outputs.groupby('type')['ROI'].apply(list)\n",
    "connectivity_outputs_nolat = connectivity_outputs_nolat.apply(drop_redundant_terms)\n"
   ]
  },
  {
   "cell_type": "code",
   "execution_count": null,
   "id": "109a4a75-d76b-4f24-a868-c502b1fef5ab",
   "metadata": {},
   "outputs": [],
   "source": [
    "connectivity_regions_lat = connectivity_inputs_lat.to_frame(name='inputs').merge(connectivity_outputs_lat.to_frame(name='outputs'), \n",
    "                                                                       how='outer', \n",
    "                                                                       left_index=True, \n",
    "                                                                       right_index=True)\n",
    "#connectivity_regions_lat.head()"
   ]
  },
  {
   "cell_type": "code",
   "execution_count": null,
   "id": "e806710a-7678-42c2-bc17-62f3b9a66362",
   "metadata": {},
   "outputs": [],
   "source": [
    "laterality = connectivity_regions_lat.reset_index('laterality').drop(labels = ['inputs', 'outputs'], axis=1)\n",
    "laterality = laterality.groupby('type')['laterality'].apply(list)\n",
    "#laterality.to_csv('laterality.csv')"
   ]
  },
  {
   "cell_type": "code",
   "execution_count": null,
   "id": "15a1fb66-3d3e-44f3-817c-cd6a171cb4df",
   "metadata": {},
   "outputs": [],
   "source": [
    "def name_lister(names):\n",
    "    L = \"\"\n",
    "    if len(names) < 1:\n",
    "        return False\n",
    "    elif len(names) == 1:\n",
    "        return names[0]\n",
    "    elif len(names) > 1:\n",
    "        L = names[0]\n",
    "        if len(names) > 2:\n",
    "            for i in names[1:-1]:\n",
    "                L = L + \", \" + i\n",
    "        L = L + \" and \" + names[-1]\n",
    "        return L"
   ]
  },
  {
   "cell_type": "code",
   "execution_count": null,
   "id": "18bf0560-f3a0-4eea-98ad-1191ff1ba252",
   "metadata": {},
   "outputs": [],
   "source": [
    "def get_region_ids(OL_type, laterality, polarity):\n",
    "    try:\n",
    "        regions = connectivity_regions_lat.loc[(OL_type, laterality), polarity]\n",
    "        if type(regions)==list:\n",
    "            return regions\n",
    "        else:\n",
    "            return False\n",
    "    except(KeyError):\n",
    "        return False\n",
    "\n",
    "#get_region_ids('LT63', 'contralateral', 'inputs')"
   ]
  },
  {
   "cell_type": "code",
   "execution_count": null,
   "id": "4890b762-0eaf-40bc-9879-380353c4b00c",
   "metadata": {},
   "outputs": [],
   "source": [
    "def neuropil_writer(FBbt_ids):\n",
    "    \"\"\"returns neuropil names for a list of FBbt_IDs\"\"\"\n",
    "    neuropil_name_list = [ROI_name_dict[i].replace('adult ', '') for i in FBbt_ids]\n",
    "    neuropil_name_string = name_lister(neuropil_name_list)\n",
    "    return neuropil_name_string\n",
    "    \n",
    "#neuropil_writer(get_region_ids('Cm1', 'ipsilateral', 'inputs'))"
   ]
  },
  {
   "cell_type": "code",
   "execution_count": null,
   "id": "0e55ef22-a738-4be0-82a7-ce9ef8aef2c3",
   "metadata": {},
   "outputs": [],
   "source": [
    "def get_name_trunk(OL_type):\n",
    "    name_trunk = re.match('[A-z]+', OL_type)[0]\n",
    "    return name_trunk"
   ]
  },
  {
   "cell_type": "code",
   "execution_count": null,
   "id": "50ecfa76-ae62-448a-8ae7-501e0ee8405e",
   "metadata": {},
   "outputs": [],
   "source": [
    "def label_writer(OL_type):\n",
    "    broad_type = parent_types.loc[get_name_trunk(OL_type), 'text']\n",
    "    label = f\"adult {broad_type} neuron {OL_type}\"\n",
    "    return label\n",
    "#label_writer('Cm15')"
   ]
  },
  {
   "cell_type": "code",
   "execution_count": null,
   "id": "e414ede2-824d-4f3e-82b4-0cda7d655176",
   "metadata": {},
   "outputs": [],
   "source": [
    "def def_writer(OL_type):\n",
    "    \"\"\"Broad type, innervation, nt, cell number, jigsaw\"\"\"\n",
    "    broad_type = parent_types.loc[get_name_trunk(OL_type), 'text']\n",
    "\n",
    "    ipsi_post_regions = get_region_ids(OL_type, 'ipsilateral', 'inputs')\n",
    "    contra_post_regions = get_region_ids(OL_type, 'contralateral', 'inputs')\n",
    "    nolat_post_regions = get_region_ids(OL_type, 'no_laterality', 'inputs')\n",
    "    ipsi_pre_regions = get_region_ids(OL_type, 'ipsilateral', 'outputs')\n",
    "    contra_pre_regions = get_region_ids(OL_type, 'contralateral', 'outputs')\n",
    "    nolat_pre_regions = get_region_ids(OL_type, 'no_laterality', 'outputs')\n",
    "\n",
    "    if any([ipsi_post_regions, contra_post_regions, nolat_post_regions]):\n",
    "        input_regions = []\n",
    "        if ipsi_post_regions:\n",
    "            input_regions.append(f\" the ipsilateral {neuropil_writer(ipsi_post_regions)}\")\n",
    "        if contra_post_regions:\n",
    "            input_regions.append(f\" the contralateral {neuropil_writer(contra_post_regions)}\")\n",
    "        if nolat_post_regions:\n",
    "            input_regions.append(f\" the {neuropil_writer(nolat_post_regions)}\")\n",
    "\n",
    "        if len(input_regions) <3:\n",
    "            input_def = f\" It receives input in{', and'.join(input_regions)} (Nern et al., 2025).\"\n",
    "        else:\n",
    "            input_def = f\" It receives input in{input_regions[0]},{input_regions[1]}, and{input_regions[2]} (Nern et al., 2025).\"    \n",
    "    else:\n",
    "        input_def = ''\n",
    "\n",
    "    if any([ipsi_pre_regions, contra_pre_regions, nolat_pre_regions]):\n",
    "        output_regions = []\n",
    "        if ipsi_pre_regions:\n",
    "            output_regions.append(f\" the ipsilateral {neuropil_writer(ipsi_pre_regions)}\")\n",
    "        if contra_pre_regions:\n",
    "            output_regions.append(f\" the contralateral {neuropil_writer(contra_pre_regions)}\")\n",
    "        if nolat_pre_regions:\n",
    "            output_regions.append(f\" the {neuropil_writer(nolat_pre_regions)}\")\n",
    "\n",
    "        if len(output_regions) <3:\n",
    "            output_def = f\" It sends output to{', and'.join(output_regions)} (Nern et al., 2025).\"\n",
    "        else:\n",
    "            output_def = f\" It sends output to{output_regions[0]},{output_regions[1]}, and{output_regions[2]} (Nern et al., 2025).\"\n",
    "    else:\n",
    "        output_def = ''\n",
    "\n",
    "    try:\n",
    "        hemilineage = (f\" It belongs to the {mapped_hemilineages.loc[OL_type, 'hemilineage'].replace('_',' ')}\"\n",
    "                       f\" hemilineage (Nern et al., 2025).\")\n",
    "    except(KeyError):\n",
    "        hemilineage = ''\n",
    "    \n",
    "    if cell_types.loc[OL_type, 'matched_as']=='1-to-1':\n",
    "        av_cells = cell_types.loc[OL_type, ['OL', 'Matsliah']].mean()\n",
    "    else:\n",
    "        av_cells = cell_types.loc[OL_type, 'OL']\n",
    "    \n",
    "    definition = f\"Adult {broad_type} neuron of the {OL_type} group (Nern et al., 2025).\"\n",
    "    definition += hemilineage\n",
    "    definition += input_def\n",
    "    definition += output_def\n",
    "    if cell_types['transmitter_pred'].notna().loc[OL_type]:\n",
    "        definition += (f\" Its predicted neurotransmitter is {cell_types.loc[OL_type, 'transmitter_pred']} \"\n",
    "                        \"(Eckstein et al., 2024; Nern et al., 2025).\")\n",
    "    if int(round(av_cells, 0)) == 1:\n",
    "        definition += f\" There is one of these cells per hemisphere (Nern et al., 2025).\"\n",
    "    else:\n",
    "        definition += f\" There are approximately {int(round(av_cells, 0))} of these cells per hemisphere (Nern et al., 2025).\"\n",
    "    if cell_types.loc[OL_type, 'jigsaw']=='y':\n",
    "        definition += \" The pair of them form a jigsaw pattern, tiling the neuropil (Matsliah et al., 2024).\"\n",
    "    return definition\n",
    "#def_writer('OLVC2')"
   ]
  },
  {
   "cell_type": "code",
   "execution_count": null,
   "id": "d08bc6b1-67fd-4903-97e0-0c4011ac36cd",
   "metadata": {},
   "outputs": [],
   "source": [
    "def comment_writer(OL_type):\n",
    "    if cell_types.loc[OL_type, 'LM'] == 'y':\n",
    "        light = ' and at light level'\n",
    "    else:\n",
    "        light = ''\n",
    "    if cell_types.loc[OL_type, 'matched_as'] == 'unmatched':\n",
    "        comment = f\"Cell type identified in one EM dataset{light} (Nern et al., 2025).\"\n",
    "    else:\n",
    "        comment = f\"Cell type identified in multiple EM datasets{light} (Schlegel et al., 2024 - FBrf0260535; Nern et al., 2025).\"\n",
    "\n",
    "    comment += (f\" Synapse locations are given where each cell of this type in \"\n",
    "                f\"neuprint has at least {connectivity_threshold} connections.\")\n",
    "\n",
    "    if OL_type in mapped_hemilineages.index:\n",
    "        comment += (f\" Hemilineage information from neuprint, though original source not clear \"\n",
    "                   f\"- possibly from FlyWire data (Schlegel et al., 2024 - FBrf0260535).\")\n",
    "        \n",
    "    if OL_type == 'LoVP26':\n",
    "        comment += (\" This cell type was originally hemibrain PS179 (Scheffer et al., 2020 - FBrf0246888).\"\n",
    "                    \" Modification to LoVP26 is a slight broadening of meaning.\")\n",
    "\n",
    "    comment += f\" Other information from Nern et al. (2025) supplements.\"\n",
    "    return comment\n",
    "#comment_writer('Cm18')"
   ]
  },
  {
   "cell_type": "code",
   "execution_count": null,
   "id": "db97e161-5f31-4fea-9edb-4e1901919e66",
   "metadata": {},
   "outputs": [],
   "source": [
    "# IDs namespace, creation\n",
    "cell_types['obo_id'] = cell_types['FBbt_id']\n",
    "cell_types['obo_namespace'] = \"fly_anatomy.ontology\"\n",
    "cell_types['created_by'] = \"http://orcid.org/0000-0002-1373-1705\"\n",
    "#cell_types.head()"
   ]
  },
  {
   "cell_type": "code",
   "execution_count": null,
   "id": "698463cf-64fe-4614-a378-69b795e56ffd",
   "metadata": {},
   "outputs": [],
   "source": [
    "# labels, defs, comments\n",
    "cell_types['label'] = cell_types.index.to_series().apply(label_writer)\n",
    "cell_types['definition'] = cell_types.index.to_series().apply(def_writer)\n",
    "cell_types['Xref_def'] = \"doi:10.1038/s41586-025-08746-0\"\n",
    "cell_types['comment'] = cell_types.index.to_series().apply(comment_writer)\n",
    "#cell_types.head()"
   ]
  },
  {
   "cell_type": "code",
   "execution_count": null,
   "id": "4f4eb501-c98e-424f-918b-5d7f22bf35c8",
   "metadata": {},
   "outputs": [],
   "source": [
    "# reference cols\n",
    "cell_types.loc[cell_types['Matsliah_type'].notnull(), 'Matsliah_ref'] = 'FlyBase:FBrf0260545|doi:10.1038/s41586-025-08746-0'\n",
    "cell_types.loc[cell_types['Schlegel_type'].notnull(), 'Schlegel_ref'] = 'FlyBase:FBrf0260535|doi:10.1038/s41586-025-08746-0'\n",
    "cell_types.loc[cell_types['hemibrain_type'].notnull(), 'hemibrain_ref'] = 'FlyBase:FBrf0246888|doi:10.1038/s41586-025-08746-0'\n",
    "cell_types.loc[cell_types['transmitter_pred'].notnull(), 'Xref_def'] = 'FlyBase:FBrf0259490|doi:10.1038/s41586-025-08746-0'\n",
    "cell_types.loc[cell_types['jigsaw'].notnull(), 'Xref_def'] = 'FlyBase:FBrf0260545|doi:10.1038/s41586-025-08746-0'\n",
    "cell_types.loc[cell_types['jigsaw'].notnull() & cell_types['transmitter_pred'].notnull(), 'Xref_def'] = \\\n",
    "    'FlyBase:FBrf0259490|doi:10.1038/s41586-025-08746-0|FlyBase:FBrf0260545'\n",
    "#cell_types.head()"
   ]
  },
  {
   "cell_type": "code",
   "execution_count": null,
   "id": "cf91d7e1-9346-4531-9a3d-ba3ed710082d",
   "metadata": {},
   "outputs": [],
   "source": [
    "# neurotransmitter\n",
    "cell_types['NT'] = cell_types['transmitter_pred'].map(nt_cvs)\n",
    "#cell_types.head()"
   ]
  },
  {
   "cell_type": "code",
   "execution_count": null,
   "id": "e03a71ea-599e-4efb-aa2c-7ababa5dc9a1",
   "metadata": {},
   "outputs": [],
   "source": [
    "# parents based on broad type\n",
    "cell_types['broad_type'] = cell_types.index.to_series().apply(get_name_trunk)\n",
    "cell_types = cell_types.reset_index(drop=False)\n",
    "cell_types = cell_types.merge(parent_types['FBbt_id'].reset_index().rename(columns={'FBbt_id':'type_parent'}),\n",
    "                              how='left', on='broad_type')\n",
    "cell_types = cell_types.set_index('OL_type')\n",
    "#cell_types.head()"
   ]
  },
  {
   "cell_type": "code",
   "execution_count": null,
   "id": "bfaf4990-0830-4a79-8a10-083ba0b45beb",
   "metadata": {},
   "outputs": [],
   "source": [
    "cell_types['parents'] = cell_types.apply(lambda row: f\"{row['additional_parents']}|{row['type_parent']}\" \\\n",
    "                                         if pd.notna(row['additional_parents']) else row['type_parent'], axis=1)\n",
    "#cell_types.head()"
   ]
  },
  {
   "cell_type": "code",
   "execution_count": null,
   "id": "011a7c5d-e9dd-4808-b807-dcd7f2dad882",
   "metadata": {},
   "outputs": [],
   "source": [
    "# innervation regions and laterality\n",
    "cell_types['inputs'] = connectivity_inputs_nolat.apply(lambda x: '|'.join(x))\n",
    "cell_types['outputs'] = connectivity_outputs_nolat.apply(lambda x: '|'.join(x))\n",
    "cell_types['laterality'] = laterality.apply(lambda x: 'PATO:0000618' if 'contralateral' in x else '')"
   ]
  },
  {
   "cell_type": "code",
   "execution_count": null,
   "id": "bd310abc-2211-4613-805a-58f52d4455ec",
   "metadata": {},
   "outputs": [],
   "source": [
    "# Make header\n",
    "\n",
    "template_seed = OrderedDict([ ('ID' , 'ID')])\n",
    "\n",
    "# fields for obo ID and namespace\n",
    "template_seed.update([(\"obo_id\" , \"A oboInOwl:id\"), (\"obo_namespace\" , \"A oboInOwl:hasOBONamespace\")])\n",
    "\n",
    "#label, definition, creation:\n",
    "template_seed.update([(\"label\" , \"A rdfs:label\"), (\"definition\" , \"A IAO:0000115\"),\\\n",
    "                      (\"Xref_def\" , \">A oboInOwl:hasDbXref SPLIT=|\"),\\\n",
    "                      (\"created_by\" , \"AI dc:contributor\"),\\\n",
    "                      (\"creation_date\", \"AT dc:date^^xsd:dateTime\")])\n",
    "\n",
    "#synonyms, comment:\n",
    "template_seed.update([(\"Matsliah_type\" , \"A oboInOwl:hasRelatedSynonym SPLIT=|\"),\\\n",
    "                      (\"Matsliah_ref\" , \">A oboInOwl:hasDbXref SPLIT=|\"),\\\n",
    "                      (\"Schlegel_type\", \"A oboInOwl:hasRelatedSynonym SPLIT=|\"),\\\n",
    "                      (\"Schlegel_ref\", \">A oboInOwl:hasDbXref SPLIT=|\"),\\\n",
    "                      (\"hemibrain_type\", \"A oboInOwl:hasRelatedSynonym SPLIT=|\"),\\\n",
    "                      (\"hemibrain_ref\", \">A oboInOwl:hasDbXref SPLIT=|\"),\\\n",
    "                      (\"comment\" , \"A rdfs:comment\")])\n",
    "\n",
    "# Columns for relationships:\n",
    "template_seed.update([(\"parents\", \"SC % SPLIT=|\"),\\\n",
    "                      (\"NT\", \"SC 'capable of' some %\"),\\\n",
    "                      (\"inputs\", \"SC 'receives synaptic input in region' some % SPLIT=|\"),\\\n",
    "                      (\"outputs\", \"SC 'sends synaptic output to region' some % SPLIT=|\"),\\\n",
    "                      (\"laterality\", \"SC 'has characteristic' some %\"),\\\n",
    "                      (\"neuroblast\", \"SC 'develops from' some %\")])\n",
    "\n",
    "# Create dataFrame for template header\n",
    "template = pd.DataFrame.from_records([template_seed])\n",
    "\n",
    "#template"
   ]
  },
  {
   "cell_type": "code",
   "execution_count": null,
   "id": "2318b2e3-ee8d-4d1a-ba4a-df09e9b3051e",
   "metadata": {},
   "outputs": [],
   "source": [
    "# reformat and merge with header\n",
    "cell_types = cell_types.rename(columns={'FBbt_id':'ID'})\n",
    "cell_types = cell_types.drop(['OL', 'Matsliah', 'transmitter_pred', 'matched_as', 'additional_parents', \n",
    "                              'jigsaw', 'LM', 'broad_type', 'type_parent'], axis=1)"
   ]
  },
  {
   "cell_type": "code",
   "execution_count": null,
   "id": "c7d6d8d0-3f40-4e42-90e4-2e75146c12ba",
   "metadata": {},
   "outputs": [],
   "source": [
    "populated_template = pd.concat([template,cell_types])\n",
    "#populated_template.head()"
   ]
  },
  {
   "cell_type": "code",
   "execution_count": null,
   "id": "140e1e8f-696f-4fac-be23-98b258fb6581",
   "metadata": {},
   "outputs": [],
   "source": [
    "populated_template.to_csv('template.tsv', sep='\\t', index=False)"
   ]
  },
  {
   "cell_type": "code",
   "execution_count": null,
   "id": "77850b45-9f17-4c97-9265-3cbc211e6d7e",
   "metadata": {},
   "outputs": [],
   "source": []
  }
 ],
 "metadata": {
  "kernelspec": {
   "display_name": "Python 3 (ipykernel)",
   "language": "python",
   "name": "python3"
  },
  "language_info": {
   "codemirror_mode": {
    "name": "ipython",
    "version": 3
   },
   "file_extension": ".py",
   "mimetype": "text/x-python",
   "name": "python",
   "nbconvert_exporter": "python",
   "pygments_lexer": "ipython3",
   "version": "3.10.0"
  }
 },
 "nbformat": 4,
 "nbformat_minor": 5
}
